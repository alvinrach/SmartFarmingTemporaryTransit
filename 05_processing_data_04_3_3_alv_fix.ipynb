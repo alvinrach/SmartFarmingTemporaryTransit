{
  "nbformat": 4,
  "nbformat_minor": 0,
  "metadata": {
    "colab": {
      "name": "05_processing-data-04-3-3-alv-fix.ipynb",
      "provenance": [],
      "collapsed_sections": [],
      "mount_file_id": "1R6SIxzfCrnkqBS8ErFN42WMRfbBkb5Dq",
      "authorship_tag": "ABX9TyN03+zM5BYoqrB6S8YMYkjm",
      "include_colab_link": true
    },
    "kernelspec": {
      "name": "python3",
      "display_name": "Python 3"
    },
    "language_info": {
      "name": "python"
    }
  },
  "cells": [
    {
      "cell_type": "markdown",
      "metadata": {
        "id": "view-in-github",
        "colab_type": "text"
      },
      "source": [
        "<a href=\"https://colab.research.google.com/github/alvinrach/SmartFarmingTemporaryTransit/blob/main/05_processing_data_04_3_3_alv_fix.ipynb\" target=\"_parent\"><img src=\"https://colab.research.google.com/assets/colab-badge.svg\" alt=\"Open In Colab\"/></a>"
      ]
    },
    {
      "cell_type": "code",
      "metadata": {
        "colab": {
          "base_uri": "https://localhost:8080/"
        },
        "id": "CONxWi80UVs7",
        "outputId": "c762c7b1-8417-4450-d5da-baec1148f882"
      },
      "source": [
        "!pip install PyMySQL\n",
        "\n",
        "# import library\n",
        "import json\n",
        "from sqlalchemy import create_engine\n",
        "import pandas as pd\n",
        "\n",
        "# open connection to the db\n",
        "json_path = '/content/drive/MyDrive/lppm-itb-iot-anomaly/paper/config_colab.json'\n",
        "# json_path = './config.json'\n",
        "\n",
        "with open(json_path) as json_file:\n",
        "    config = json.load(json_file)\n",
        "\n",
        "db_connection_str = \"mysql+pymysql://{mysql_user}:{mysql_password}@{mysql_host}/{mysql_db}\".format(\n",
        "mysql_user = config['database']['username'], \n",
        "mysql_password = config['database']['password'],\n",
        "mysql_host = config['database']['host'],\n",
        "mysql_db = config['database']['databasename']\n",
        "    \n",
        ")\n",
        "db_connection = create_engine(db_connection_str)"
      ],
      "execution_count": 2,
      "outputs": [
        {
          "output_type": "stream",
          "text": [
            "Collecting PyMySQL\n",
            "  Downloading PyMySQL-1.0.2-py3-none-any.whl (43 kB)\n",
            "\u001b[?25l\r\u001b[K     |███████▌                        | 10 kB 23.7 MB/s eta 0:00:01\r\u001b[K     |███████████████                 | 20 kB 28.3 MB/s eta 0:00:01\r\u001b[K     |██████████████████████▍         | 30 kB 15.6 MB/s eta 0:00:01\r\u001b[K     |██████████████████████████████  | 40 kB 11.6 MB/s eta 0:00:01\r\u001b[K     |████████████████████████████████| 43 kB 1.8 MB/s \n",
            "\u001b[?25hInstalling collected packages: PyMySQL\n",
            "Successfully installed PyMySQL-1.0.2\n"
          ],
          "name": "stdout"
        }
      ]
    },
    {
      "cell_type": "code",
      "metadata": {
        "id": "a-6dQxtJUXxh"
      },
      "source": [
        "# Import Library\n",
        "\n",
        "import pandas as pd\n",
        "\n",
        "from sklearn.preprocessing import MinMaxScaler\n",
        "from sklearn.preprocessing import LabelEncoder\n",
        "from sklearn.metrics import mean_squared_error\n",
        "\n",
        "from keras.models import Sequential\n",
        "from keras.layers import Input, Dropout, Dense, LSTM, TimeDistributed, RepeatVector\n",
        "from keras.models import Model\n",
        "from keras import regularizers"
      ],
      "execution_count": 3,
      "outputs": []
    },
    {
      "cell_type": "code",
      "metadata": {
        "colab": {
          "base_uri": "https://localhost:8080/",
          "height": 200
        },
        "id": "t0tQ4iNxUZnh",
        "outputId": "3b9628fb-2f4e-4d97-c355-52ad6d3cf996"
      },
      "source": [
        "df = pd.read_sql('SELECT * FROM temp_suhus', con=db_connection)\n",
        "df.head()"
      ],
      "execution_count": 4,
      "outputs": [
        {
          "output_type": "execute_result",
          "data": {
            "text/html": [
              "<div>\n",
              "<style scoped>\n",
              "    .dataframe tbody tr th:only-of-type {\n",
              "        vertical-align: middle;\n",
              "    }\n",
              "\n",
              "    .dataframe tbody tr th {\n",
              "        vertical-align: top;\n",
              "    }\n",
              "\n",
              "    .dataframe thead th {\n",
              "        text-align: right;\n",
              "    }\n",
              "</style>\n",
              "<table border=\"1\" class=\"dataframe\">\n",
              "  <thead>\n",
              "    <tr style=\"text-align: right;\">\n",
              "      <th></th>\n",
              "      <th>id</th>\n",
              "      <th>app_id</th>\n",
              "      <th>dev_id</th>\n",
              "      <th>eui</th>\n",
              "      <th>batv</th>\n",
              "      <th>hum_sht</th>\n",
              "      <th>tempc_ds</th>\n",
              "      <th>tempc_sht</th>\n",
              "      <th>created_at</th>\n",
              "      <th>updated_at</th>\n",
              "    </tr>\n",
              "  </thead>\n",
              "  <tbody>\n",
              "    <tr>\n",
              "      <th>0</th>\n",
              "      <td>1</td>\n",
              "      <td>sensecap-temperature</td>\n",
              "      <td>outdoor_temperature1</td>\n",
              "      <td>2CF7F12110700081</td>\n",
              "      <td>NaN</td>\n",
              "      <td>36.3</td>\n",
              "      <td>NaN</td>\n",
              "      <td>36.20</td>\n",
              "      <td>2020-10-16 18:55:37</td>\n",
              "      <td>2020-10-16 18:55:37</td>\n",
              "    </tr>\n",
              "    <tr>\n",
              "      <th>1</th>\n",
              "      <td>2</td>\n",
              "      <td>lora-lht65</td>\n",
              "      <td>lht65-1</td>\n",
              "      <td>A84041000181B265</td>\n",
              "      <td>3.064</td>\n",
              "      <td>21.0</td>\n",
              "      <td>50.00</td>\n",
              "      <td>53.61</td>\n",
              "      <td>2020-10-16 19:02:02</td>\n",
              "      <td>2020-10-16 19:02:02</td>\n",
              "    </tr>\n",
              "    <tr>\n",
              "      <th>2</th>\n",
              "      <td>3</td>\n",
              "      <td>lora-lht65</td>\n",
              "      <td>lht65-1</td>\n",
              "      <td>A84041000181B265</td>\n",
              "      <td>3.066</td>\n",
              "      <td>45.4</td>\n",
              "      <td>29.31</td>\n",
              "      <td>34.68</td>\n",
              "      <td>2020-10-16 19:32:02</td>\n",
              "      <td>2020-10-16 19:32:02</td>\n",
              "    </tr>\n",
              "    <tr>\n",
              "      <th>3</th>\n",
              "      <td>4</td>\n",
              "      <td>sensecap-temperature</td>\n",
              "      <td>outdoor_temperature1</td>\n",
              "      <td>2CF7F12110700081</td>\n",
              "      <td>NaN</td>\n",
              "      <td>71.6</td>\n",
              "      <td>NaN</td>\n",
              "      <td>25.20</td>\n",
              "      <td>2020-10-16 19:55:39</td>\n",
              "      <td>2020-10-16 19:55:39</td>\n",
              "    </tr>\n",
              "    <tr>\n",
              "      <th>4</th>\n",
              "      <td>5</td>\n",
              "      <td>lora-lht65</td>\n",
              "      <td>lht65-1</td>\n",
              "      <td>A84041000181B265</td>\n",
              "      <td>3.068</td>\n",
              "      <td>65.9</td>\n",
              "      <td>23.37</td>\n",
              "      <td>27.33</td>\n",
              "      <td>2020-10-16 20:02:01</td>\n",
              "      <td>2020-10-16 20:02:01</td>\n",
              "    </tr>\n",
              "  </tbody>\n",
              "</table>\n",
              "</div>"
            ],
            "text/plain": [
              "   id                app_id  ...          created_at          updated_at\n",
              "0   1  sensecap-temperature  ... 2020-10-16 18:55:37 2020-10-16 18:55:37\n",
              "1   2            lora-lht65  ... 2020-10-16 19:02:02 2020-10-16 19:02:02\n",
              "2   3            lora-lht65  ... 2020-10-16 19:32:02 2020-10-16 19:32:02\n",
              "3   4  sensecap-temperature  ... 2020-10-16 19:55:39 2020-10-16 19:55:39\n",
              "4   5            lora-lht65  ... 2020-10-16 20:02:01 2020-10-16 20:02:01\n",
              "\n",
              "[5 rows x 10 columns]"
            ]
          },
          "metadata": {
            "tags": []
          },
          "execution_count": 4
        }
      ]
    },
    {
      "cell_type": "code",
      "metadata": {
        "id": "U9g9bWx8UmH-"
      },
      "source": [
        "# convert timestamp\n",
        "df['timestamp'] = pd.to_datetime(df['created_at'], format='%Y-%m-%d %H:%M:%S')"
      ],
      "execution_count": 5,
      "outputs": []
    },
    {
      "cell_type": "code",
      "metadata": {
        "colab": {
          "base_uri": "https://localhost:8080/"
        },
        "id": "GlEFBvnSW8dH",
        "outputId": "691e3abc-e2c2-4d81-9cd3-a405826329e7"
      },
      "source": [
        "# Jumlah data\n",
        "df.shape"
      ],
      "execution_count": 6,
      "outputs": [
        {
          "output_type": "execute_result",
          "data": {
            "text/plain": [
              "(35829, 11)"
            ]
          },
          "metadata": {
            "tags": []
          },
          "execution_count": 6
        }
      ]
    },
    {
      "cell_type": "code",
      "metadata": {
        "colab": {
          "base_uri": "https://localhost:8080/"
        },
        "id": "LYRUiVm3V91W",
        "outputId": "a97689ba-0663-42eb-bf5f-2b48118cc000"
      },
      "source": [
        "df.isna().sum()"
      ],
      "execution_count": 7,
      "outputs": [
        {
          "output_type": "execute_result",
          "data": {
            "text/plain": [
              "id               0\n",
              "app_id           0\n",
              "dev_id           0\n",
              "eui              0\n",
              "batv          6456\n",
              "hum_sht          1\n",
              "tempc_ds      6456\n",
              "tempc_sht        1\n",
              "created_at       0\n",
              "updated_at       0\n",
              "timestamp        0\n",
              "dtype: int64"
            ]
          },
          "metadata": {
            "tags": []
          },
          "execution_count": 7
        }
      ]
    },
    {
      "cell_type": "code",
      "metadata": {
        "id": "eO89f12pV1K4"
      },
      "source": [
        "df['batv'].interpolate(method='linear', direction = 'forward', inplace=True)\n",
        "df['hum_sht'].interpolate(method='linear', direction = 'forward', inplace=True)\n",
        "df['tempc_ds'].interpolate(method='linear', direction = 'forward', inplace=True)\n",
        "df['tempc_sht'].interpolate(method='linear', direction = 'forward', inplace=True)"
      ],
      "execution_count": 8,
      "outputs": []
    },
    {
      "cell_type": "code",
      "metadata": {
        "colab": {
          "base_uri": "https://localhost:8080/"
        },
        "id": "Q2Ty1NGtWvon",
        "outputId": "086e9918-a890-47a8-c509-7eb241d3b592"
      },
      "source": [
        "df.isna().sum()"
      ],
      "execution_count": 9,
      "outputs": [
        {
          "output_type": "execute_result",
          "data": {
            "text/plain": [
              "id            0\n",
              "app_id        0\n",
              "dev_id        0\n",
              "eui           0\n",
              "batv          1\n",
              "hum_sht       0\n",
              "tempc_ds      1\n",
              "tempc_sht     0\n",
              "created_at    0\n",
              "updated_at    0\n",
              "timestamp     0\n",
              "dtype: int64"
            ]
          },
          "metadata": {
            "tags": []
          },
          "execution_count": 9
        }
      ]
    },
    {
      "cell_type": "code",
      "metadata": {
        "colab": {
          "base_uri": "https://localhost:8080/"
        },
        "id": "IRJVUt93Ww0Y",
        "outputId": "4efe33a1-8a08-4db0-ee08-20e0c0541815"
      },
      "source": [
        "df = df.dropna()\n",
        "df.isna().sum()"
      ],
      "execution_count": 10,
      "outputs": [
        {
          "output_type": "execute_result",
          "data": {
            "text/plain": [
              "id            0\n",
              "app_id        0\n",
              "dev_id        0\n",
              "eui           0\n",
              "batv          0\n",
              "hum_sht       0\n",
              "tempc_ds      0\n",
              "tempc_sht     0\n",
              "created_at    0\n",
              "updated_at    0\n",
              "timestamp     0\n",
              "dtype: int64"
            ]
          },
          "metadata": {
            "tags": []
          },
          "execution_count": 10
        }
      ]
    },
    {
      "cell_type": "code",
      "metadata": {
        "id": "-RxUxOKyaTLE",
        "colab": {
          "base_uri": "https://localhost:8080/",
          "height": 440
        },
        "outputId": "06654977-b619-4a49-8167-bb4487fe6d94"
      },
      "source": [
        "df.set_index(['timestamp'], inplace=False)"
      ],
      "execution_count": 11,
      "outputs": [
        {
          "output_type": "execute_result",
          "data": {
            "text/html": [
              "<div>\n",
              "<style scoped>\n",
              "    .dataframe tbody tr th:only-of-type {\n",
              "        vertical-align: middle;\n",
              "    }\n",
              "\n",
              "    .dataframe tbody tr th {\n",
              "        vertical-align: top;\n",
              "    }\n",
              "\n",
              "    .dataframe thead th {\n",
              "        text-align: right;\n",
              "    }\n",
              "</style>\n",
              "<table border=\"1\" class=\"dataframe\">\n",
              "  <thead>\n",
              "    <tr style=\"text-align: right;\">\n",
              "      <th></th>\n",
              "      <th>id</th>\n",
              "      <th>app_id</th>\n",
              "      <th>dev_id</th>\n",
              "      <th>eui</th>\n",
              "      <th>batv</th>\n",
              "      <th>hum_sht</th>\n",
              "      <th>tempc_ds</th>\n",
              "      <th>tempc_sht</th>\n",
              "      <th>created_at</th>\n",
              "      <th>updated_at</th>\n",
              "    </tr>\n",
              "    <tr>\n",
              "      <th>timestamp</th>\n",
              "      <th></th>\n",
              "      <th></th>\n",
              "      <th></th>\n",
              "      <th></th>\n",
              "      <th></th>\n",
              "      <th></th>\n",
              "      <th></th>\n",
              "      <th></th>\n",
              "      <th></th>\n",
              "      <th></th>\n",
              "    </tr>\n",
              "  </thead>\n",
              "  <tbody>\n",
              "    <tr>\n",
              "      <th>2020-10-16 19:02:02</th>\n",
              "      <td>2</td>\n",
              "      <td>lora-lht65</td>\n",
              "      <td>lht65-1</td>\n",
              "      <td>A84041000181B265</td>\n",
              "      <td>3.064</td>\n",
              "      <td>21.0</td>\n",
              "      <td>50.00</td>\n",
              "      <td>53.61</td>\n",
              "      <td>2020-10-16 19:02:02</td>\n",
              "      <td>2020-10-16 19:02:02</td>\n",
              "    </tr>\n",
              "    <tr>\n",
              "      <th>2020-10-16 19:32:02</th>\n",
              "      <td>3</td>\n",
              "      <td>lora-lht65</td>\n",
              "      <td>lht65-1</td>\n",
              "      <td>A84041000181B265</td>\n",
              "      <td>3.066</td>\n",
              "      <td>45.4</td>\n",
              "      <td>29.31</td>\n",
              "      <td>34.68</td>\n",
              "      <td>2020-10-16 19:32:02</td>\n",
              "      <td>2020-10-16 19:32:02</td>\n",
              "    </tr>\n",
              "    <tr>\n",
              "      <th>2020-10-16 19:55:39</th>\n",
              "      <td>4</td>\n",
              "      <td>sensecap-temperature</td>\n",
              "      <td>outdoor_temperature1</td>\n",
              "      <td>2CF7F12110700081</td>\n",
              "      <td>3.067</td>\n",
              "      <td>71.6</td>\n",
              "      <td>26.34</td>\n",
              "      <td>25.20</td>\n",
              "      <td>2020-10-16 19:55:39</td>\n",
              "      <td>2020-10-16 19:55:39</td>\n",
              "    </tr>\n",
              "    <tr>\n",
              "      <th>2020-10-16 20:02:01</th>\n",
              "      <td>5</td>\n",
              "      <td>lora-lht65</td>\n",
              "      <td>lht65-1</td>\n",
              "      <td>A84041000181B265</td>\n",
              "      <td>3.068</td>\n",
              "      <td>65.9</td>\n",
              "      <td>23.37</td>\n",
              "      <td>27.33</td>\n",
              "      <td>2020-10-16 20:02:01</td>\n",
              "      <td>2020-10-16 20:02:01</td>\n",
              "    </tr>\n",
              "    <tr>\n",
              "      <th>2020-10-16 20:32:02</th>\n",
              "      <td>6</td>\n",
              "      <td>lora-lht65</td>\n",
              "      <td>lht65-1</td>\n",
              "      <td>A84041000181B265</td>\n",
              "      <td>3.068</td>\n",
              "      <td>79.1</td>\n",
              "      <td>22.93</td>\n",
              "      <td>24.54</td>\n",
              "      <td>2020-10-16 20:32:02</td>\n",
              "      <td>2020-10-16 20:32:02</td>\n",
              "    </tr>\n",
              "    <tr>\n",
              "      <th>...</th>\n",
              "      <td>...</td>\n",
              "      <td>...</td>\n",
              "      <td>...</td>\n",
              "      <td>...</td>\n",
              "      <td>...</td>\n",
              "      <td>...</td>\n",
              "      <td>...</td>\n",
              "      <td>...</td>\n",
              "      <td>...</td>\n",
              "      <td>...</td>\n",
              "    </tr>\n",
              "    <tr>\n",
              "      <th>2021-07-19 11:21:31</th>\n",
              "      <td>35825</td>\n",
              "      <td>lora-lht65</td>\n",
              "      <td>lht65-1</td>\n",
              "      <td>A84041000181B265</td>\n",
              "      <td>3.057</td>\n",
              "      <td>47.1</td>\n",
              "      <td>34.31</td>\n",
              "      <td>38.66</td>\n",
              "      <td>2021-07-19 11:21:31</td>\n",
              "      <td>2021-07-19 11:21:31</td>\n",
              "    </tr>\n",
              "    <tr>\n",
              "      <th>2021-07-19 11:50:34</th>\n",
              "      <td>35826</td>\n",
              "      <td>lora-lht65</td>\n",
              "      <td>lht65-2</td>\n",
              "      <td>A84041000181B266</td>\n",
              "      <td>3.051</td>\n",
              "      <td>37.5</td>\n",
              "      <td>40.56</td>\n",
              "      <td>42.42</td>\n",
              "      <td>2021-07-19 11:50:34</td>\n",
              "      <td>2021-07-19 11:50:34</td>\n",
              "    </tr>\n",
              "    <tr>\n",
              "      <th>2021-07-19 11:51:15</th>\n",
              "      <td>35827</td>\n",
              "      <td>lora-lht65</td>\n",
              "      <td>lht65-3</td>\n",
              "      <td>A84041000181B267</td>\n",
              "      <td>3.054</td>\n",
              "      <td>37.2</td>\n",
              "      <td>40.50</td>\n",
              "      <td>43.38</td>\n",
              "      <td>2021-07-19 11:51:15</td>\n",
              "      <td>2021-07-19 11:51:15</td>\n",
              "    </tr>\n",
              "    <tr>\n",
              "      <th>2021-07-19 11:51:31</th>\n",
              "      <td>35828</td>\n",
              "      <td>lora-lht65</td>\n",
              "      <td>lht65-1</td>\n",
              "      <td>A84041000181B265</td>\n",
              "      <td>3.055</td>\n",
              "      <td>43.8</td>\n",
              "      <td>35.18</td>\n",
              "      <td>39.42</td>\n",
              "      <td>2021-07-19 11:51:31</td>\n",
              "      <td>2021-07-19 11:51:31</td>\n",
              "    </tr>\n",
              "    <tr>\n",
              "      <th>2021-07-19 12:04:13</th>\n",
              "      <td>35829</td>\n",
              "      <td>sensecap-temperature</td>\n",
              "      <td>outdoor_temperature1</td>\n",
              "      <td>2CF7F12110700081</td>\n",
              "      <td>3.055</td>\n",
              "      <td>47.8</td>\n",
              "      <td>35.18</td>\n",
              "      <td>33.40</td>\n",
              "      <td>2021-07-19 12:04:13</td>\n",
              "      <td>2021-07-19 12:04:13</td>\n",
              "    </tr>\n",
              "  </tbody>\n",
              "</table>\n",
              "<p>35828 rows × 10 columns</p>\n",
              "</div>"
            ],
            "text/plain": [
              "                        id  ...          updated_at\n",
              "timestamp                   ...                    \n",
              "2020-10-16 19:02:02      2  ... 2020-10-16 19:02:02\n",
              "2020-10-16 19:32:02      3  ... 2020-10-16 19:32:02\n",
              "2020-10-16 19:55:39      4  ... 2020-10-16 19:55:39\n",
              "2020-10-16 20:02:01      5  ... 2020-10-16 20:02:01\n",
              "2020-10-16 20:32:02      6  ... 2020-10-16 20:32:02\n",
              "...                    ...  ...                 ...\n",
              "2021-07-19 11:21:31  35825  ... 2021-07-19 11:21:31\n",
              "2021-07-19 11:50:34  35826  ... 2021-07-19 11:50:34\n",
              "2021-07-19 11:51:15  35827  ... 2021-07-19 11:51:15\n",
              "2021-07-19 11:51:31  35828  ... 2021-07-19 11:51:31\n",
              "2021-07-19 12:04:13  35829  ... 2021-07-19 12:04:13\n",
              "\n",
              "[35828 rows x 10 columns]"
            ]
          },
          "metadata": {
            "tags": []
          },
          "execution_count": 11
        }
      ]
    },
    {
      "cell_type": "code",
      "metadata": {
        "id": "ys_JCsVybGms"
      },
      "source": [
        "df_ = df.resample('20Min', on='timestamp').mean()"
      ],
      "execution_count": 12,
      "outputs": []
    },
    {
      "cell_type": "code",
      "metadata": {
        "colab": {
          "base_uri": "https://localhost:8080/",
          "height": 230
        },
        "id": "T2dSNSNcaT8U",
        "outputId": "0f8205f4-da4d-45ce-9174-026ce929fd36"
      },
      "source": [
        "df_ = df_[['batv', 'hum_sht', 'tempc_ds', 'tempc_sht']]\n",
        "df_.head()"
      ],
      "execution_count": 13,
      "outputs": [
        {
          "output_type": "execute_result",
          "data": {
            "text/html": [
              "<div>\n",
              "<style scoped>\n",
              "    .dataframe tbody tr th:only-of-type {\n",
              "        vertical-align: middle;\n",
              "    }\n",
              "\n",
              "    .dataframe tbody tr th {\n",
              "        vertical-align: top;\n",
              "    }\n",
              "\n",
              "    .dataframe thead th {\n",
              "        text-align: right;\n",
              "    }\n",
              "</style>\n",
              "<table border=\"1\" class=\"dataframe\">\n",
              "  <thead>\n",
              "    <tr style=\"text-align: right;\">\n",
              "      <th></th>\n",
              "      <th>batv</th>\n",
              "      <th>hum_sht</th>\n",
              "      <th>tempc_ds</th>\n",
              "      <th>tempc_sht</th>\n",
              "    </tr>\n",
              "    <tr>\n",
              "      <th>timestamp</th>\n",
              "      <th></th>\n",
              "      <th></th>\n",
              "      <th></th>\n",
              "      <th></th>\n",
              "    </tr>\n",
              "  </thead>\n",
              "  <tbody>\n",
              "    <tr>\n",
              "      <th>2020-10-16 19:00:00</th>\n",
              "      <td>3.064</td>\n",
              "      <td>21.0</td>\n",
              "      <td>50.00</td>\n",
              "      <td>53.61</td>\n",
              "    </tr>\n",
              "    <tr>\n",
              "      <th>2020-10-16 19:20:00</th>\n",
              "      <td>3.066</td>\n",
              "      <td>45.4</td>\n",
              "      <td>29.31</td>\n",
              "      <td>34.68</td>\n",
              "    </tr>\n",
              "    <tr>\n",
              "      <th>2020-10-16 19:40:00</th>\n",
              "      <td>3.067</td>\n",
              "      <td>71.6</td>\n",
              "      <td>26.34</td>\n",
              "      <td>25.20</td>\n",
              "    </tr>\n",
              "    <tr>\n",
              "      <th>2020-10-16 20:00:00</th>\n",
              "      <td>3.068</td>\n",
              "      <td>65.9</td>\n",
              "      <td>23.37</td>\n",
              "      <td>27.33</td>\n",
              "    </tr>\n",
              "    <tr>\n",
              "      <th>2020-10-16 20:20:00</th>\n",
              "      <td>3.068</td>\n",
              "      <td>79.1</td>\n",
              "      <td>22.93</td>\n",
              "      <td>24.54</td>\n",
              "    </tr>\n",
              "  </tbody>\n",
              "</table>\n",
              "</div>"
            ],
            "text/plain": [
              "                      batv  hum_sht  tempc_ds  tempc_sht\n",
              "timestamp                                               \n",
              "2020-10-16 19:00:00  3.064     21.0     50.00      53.61\n",
              "2020-10-16 19:20:00  3.066     45.4     29.31      34.68\n",
              "2020-10-16 19:40:00  3.067     71.6     26.34      25.20\n",
              "2020-10-16 20:00:00  3.068     65.9     23.37      27.33\n",
              "2020-10-16 20:20:00  3.068     79.1     22.93      24.54"
            ]
          },
          "metadata": {
            "tags": []
          },
          "execution_count": 13
        }
      ]
    },
    {
      "cell_type": "code",
      "metadata": {
        "colab": {
          "base_uri": "https://localhost:8080/"
        },
        "id": "A9b363rzbHm_",
        "outputId": "e43e8f39-e8a8-44cb-c444-00fbd3ce7ad2"
      },
      "source": [
        "df_.isna().sum()"
      ],
      "execution_count": 14,
      "outputs": [
        {
          "output_type": "execute_result",
          "data": {
            "text/plain": [
              "batv         5335\n",
              "hum_sht      5335\n",
              "tempc_ds     5335\n",
              "tempc_sht    5335\n",
              "dtype: int64"
            ]
          },
          "metadata": {
            "tags": []
          },
          "execution_count": 14
        }
      ]
    },
    {
      "cell_type": "code",
      "metadata": {
        "id": "0Ns2FhxsgVXs"
      },
      "source": [
        "df_ = df_.dropna()"
      ],
      "execution_count": 15,
      "outputs": []
    },
    {
      "cell_type": "code",
      "metadata": {
        "id": "ONOQ3ZG9hKA3"
      },
      "source": [
        "# key cell\n",
        "df = df_.copy()"
      ],
      "execution_count": 16,
      "outputs": []
    },
    {
      "cell_type": "code",
      "metadata": {
        "colab": {
          "base_uri": "https://localhost:8080/"
        },
        "id": "tO893Gg5e-lO",
        "outputId": "db02ec19-97b8-4757-e00d-7bd834564781"
      },
      "source": [
        "from sklearn.preprocessing import StandardScaler\n",
        "from sklearn.decomposition import PCA\n",
        "from sklearn.pipeline import make_pipeline\n",
        "\n",
        "scaler = StandardScaler()\n",
        "pca = PCA()\n",
        "pipeline = make_pipeline(scaler, pca)\n",
        "pipeline.fit(df)"
      ],
      "execution_count": 17,
      "outputs": [
        {
          "output_type": "execute_result",
          "data": {
            "text/plain": [
              "Pipeline(memory=None,\n",
              "         steps=[('standardscaler',\n",
              "                 StandardScaler(copy=True, with_mean=True, with_std=True)),\n",
              "                ('pca',\n",
              "                 PCA(copy=True, iterated_power='auto', n_components=None,\n",
              "                     random_state=None, svd_solver='auto', tol=0.0,\n",
              "                     whiten=False))],\n",
              "         verbose=False)"
            ]
          },
          "metadata": {
            "tags": []
          },
          "execution_count": 17
        }
      ]
    },
    {
      "cell_type": "code",
      "metadata": {
        "colab": {
          "base_uri": "https://localhost:8080/",
          "height": 333
        },
        "id": "emWYoewvgXZq",
        "outputId": "4813ef8f-b4b7-4df5-876c-08906c646bd3"
      },
      "source": [
        "import matplotlib.pyplot as plt\n",
        "features = range(pca.n_components_)\n",
        "plt.figure(figsize=(15, 5))\n",
        "plt.bar(features, pca.explained_variance_)\n",
        "plt.xlabel('fitur PCA')\n",
        "plt.ylabel('Varians')\n",
        "plt.xticks(features)\n",
        "plt.show()"
      ],
      "execution_count": 18,
      "outputs": [
        {
          "output_type": "display_data",
          "data": {
            "image/png": "[encoded data removed]",
            "text/plain": [
              "<Figure size 1080x360 with 1 Axes>"
            ]
          },
          "metadata": {
            "tags": [],
            "needs_background": "light"
          }
        }
      ]
    },
    {
      "cell_type": "code",
      "metadata": {
        "colab": {
          "base_uri": "https://localhost:8080/",
          "height": 200
        },
        "id": "FxkfKdcFgg-v",
        "outputId": "7739a827-23d1-41c1-ea87-7d764d4c4fc5"
      },
      "source": [
        "pca = PCA(n_components=3)\n",
        "principalComponents = pca.fit_transform(df)\n",
        "principalDf = pd.DataFrame(data = principalComponents, columns = ['pc1', 'pc2', 'pc3'])\n",
        "principalDf.head()"
      ],
      "execution_count": 19,
      "outputs": [
        {
          "output_type": "execute_result",
          "data": {
            "text/html": [
              "<div>\n",
              "<style scoped>\n",
              "    .dataframe tbody tr th:only-of-type {\n",
              "        vertical-align: middle;\n",
              "    }\n",
              "\n",
              "    .dataframe tbody tr th {\n",
              "        vertical-align: top;\n",
              "    }\n",
              "\n",
              "    .dataframe thead th {\n",
              "        text-align: right;\n",
              "    }\n",
              "</style>\n",
              "<table border=\"1\" class=\"dataframe\">\n",
              "  <thead>\n",
              "    <tr style=\"text-align: right;\">\n",
              "      <th></th>\n",
              "      <th>pc1</th>\n",
              "      <th>pc2</th>\n",
              "      <th>pc3</th>\n",
              "    </tr>\n",
              "  </thead>\n",
              "  <tbody>\n",
              "    <tr>\n",
              "      <th>0</th>\n",
              "      <td>-70.023284</td>\n",
              "      <td>22.285649</td>\n",
              "      <td>0.103539</td>\n",
              "    </tr>\n",
              "    <tr>\n",
              "      <th>1</th>\n",
              "      <td>-39.906106</td>\n",
              "      <td>0.644886</td>\n",
              "      <td>2.636102</td>\n",
              "    </tr>\n",
              "    <tr>\n",
              "      <th>2</th>\n",
              "      <td>-12.315823</td>\n",
              "      <td>-2.103875</td>\n",
              "      <td>-1.407648</td>\n",
              "    </tr>\n",
              "    <tr>\n",
              "      <th>3</th>\n",
              "      <td>-17.790323</td>\n",
              "      <td>-3.853257</td>\n",
              "      <td>2.172478</td>\n",
              "    </tr>\n",
              "    <tr>\n",
              "      <th>4</th>\n",
              "      <td>-4.391127</td>\n",
              "      <td>-3.121313</td>\n",
              "      <td>0.708409</td>\n",
              "    </tr>\n",
              "  </tbody>\n",
              "</table>\n",
              "</div>"
            ],
            "text/plain": [
              "         pc1        pc2       pc3\n",
              "0 -70.023284  22.285649  0.103539\n",
              "1 -39.906106   0.644886  2.636102\n",
              "2 -12.315823  -2.103875 -1.407648\n",
              "3 -17.790323  -3.853257  2.172478\n",
              "4  -4.391127  -3.121313  0.708409"
            ]
          },
          "metadata": {
            "tags": []
          },
          "execution_count": 19
        }
      ]
    },
    {
      "cell_type": "code",
      "metadata": {
        "id": "z4ZG9IhehgBa"
      },
      "source": [
        "from sklearn.model_selection import train_test_split"
      ],
      "execution_count": 20,
      "outputs": []
    },
    {
      "cell_type": "code",
      "metadata": {
        "id": "76QhVXEljeC_"
      },
      "source": [
        "train_data, test_data = train_test_split(principalDf, test_size=0.2, shuffle=False)"
      ],
      "execution_count": 21,
      "outputs": []
    },
    {
      "cell_type": "code",
      "metadata": {
        "id": "reLWWeG0m4sm"
      },
      "source": [
        "# normalisasi data\n",
        "scaler = MinMaxScaler(feature_range=(0, 1))\n",
        "X_trainset = scaler.fit_transform(train_data)\n",
        "X_testset = scaler.fit_transform(test_data)"
      ],
      "execution_count": 22,
      "outputs": []
    },
    {
      "cell_type": "code",
      "metadata": {
        "colab": {
          "base_uri": "https://localhost:8080/"
        },
        "id": "b-KUiaIQnNjG",
        "outputId": "9f5bda83-e1e0-4f44-8569-ff6350b15248"
      },
      "source": [
        "# reshape input LSTM\n",
        "X_trainset = X_trainset.reshape(X_trainset.shape[0], 1, X_trainset.shape[1])\n",
        "print(\"Training data shape:\", X_trainset.shape)\n",
        "X_testset = X_testset.reshape(X_testset.shape[0], 1, X_testset.shape[1])\n",
        "print(\"Test data shape:\", X_testset.shape)"
      ],
      "execution_count": 23,
      "outputs": [
        {
          "output_type": "stream",
          "text": [
            "Training data shape: (11613, 1, 3)\n",
            "Test data shape: (2904, 1, 3)\n"
          ],
          "name": "stdout"
        }
      ]
    },
    {
      "cell_type": "code",
      "metadata": {
        "id": "uOpPt08onRE8"
      },
      "source": [
        "from sklearn.preprocessing import MinMaxScaler\n",
        "from keras.models import Sequential\n",
        "from keras.layers import Dense, LSTM, Dropout, GRU, Bidirectional\n",
        "# from keras.optimizers import SGD\n",
        "import math\n",
        "from sklearn.metrics import mean_squared_error"
      ],
      "execution_count": 24,
      "outputs": []
    },
    {
      "cell_type": "code",
      "metadata": {
        "id": "PowWOhuZnWBe"
      },
      "source": [
        "def gru_model(X):\n",
        "    inputs = Input(shape=(X.shape[1], X.shape[2]))\n",
        "    L1 = GRU(16, activation='relu', return_sequences=True, \n",
        "              kernel_regularizer=regularizers.l2(0.00))(inputs)\n",
        "    L2 = GRU(4, activation='relu', return_sequences=False)(L1) \n",
        "    L3 = RepeatVector(X.shape[1])(L2)\n",
        "    output = TimeDistributed(Dense(X.shape[2]))(L3)    \n",
        "    model = Model(inputs=inputs, outputs=output)\n",
        "    return model"
      ],
      "execution_count": 25,
      "outputs": []
    },
    {
      "cell_type": "code",
      "metadata": {
        "colab": {
          "base_uri": "https://localhost:8080/"
        },
        "id": "ebn2CsJBnW62",
        "outputId": "498a86ab-b3ee-4a65-e26e-6e9a2411d45d"
      },
      "source": [
        "# Membuat model lstm\n",
        "model = gru_model(X_trainset)\n",
        "#model.compile(optimizer='rmsprop', loss='mse', metrics = ['accuracy'])\n",
        "model.compile(optimizer='rmsprop', loss='mse')\n",
        "model.summary()"
      ],
      "execution_count": 26,
      "outputs": [
        {
          "output_type": "stream",
          "text": [
            "Model: \"model\"\n",
            "_________________________________________________________________\n",
            "Layer (type)                 Output Shape              Param #   \n",
            "=================================================================\n",
            "input_1 (InputLayer)         [(None, 1, 3)]            0         \n",
            "_________________________________________________________________\n",
            "gru (GRU)                    (None, 1, 16)             1008      \n",
            "_________________________________________________________________\n",
            "gru_1 (GRU)                  (None, 4)                 264       \n",
            "_________________________________________________________________\n",
            "repeat_vector (RepeatVector) (None, 1, 4)              0         \n",
            "_________________________________________________________________\n",
            "time_distributed (TimeDistri (None, 1, 3)              15        \n",
            "=================================================================\n",
            "Total params: 1,287\n",
            "Trainable params: 1,287\n",
            "Non-trainable params: 0\n",
            "_________________________________________________________________\n"
          ],
          "name": "stdout"
        }
      ]
    },
    {
      "cell_type": "code",
      "metadata": {
        "colab": {
          "base_uri": "https://localhost:8080/"
        },
        "id": "elcS49WonYrg",
        "outputId": "7b4aefb1-736c-4162-e325-b7caedc4c5e3"
      },
      "source": [
        "# fit the model to the data\n",
        "nb_epochs = 120\n",
        "batch_size = 10\n",
        "history = model.fit(X_trainset, X_trainset, epochs=nb_epochs, batch_size=batch_size,\n",
        "                    validation_split=0.05).history"
      ],
      "execution_count": 27,
      "outputs": [
        {
          "output_type": "stream",
          "text": [
            "Epoch 1/120\n",
            "1104/1104 [==============================] - 8s 4ms/step - loss: 0.0030 - val_loss: 1.7560e-04\n",
            "Epoch 2/120\n",
            "1104/1104 [==============================] - 4s 3ms/step - loss: 2.1422e-04 - val_loss: 8.0717e-05\n",
            "Epoch 3/120\n",
            "1104/1104 [==============================] - 4s 3ms/step - loss: 1.7447e-04 - val_loss: 3.3918e-05\n",
            "Epoch 4/120\n",
            "1104/1104 [==============================] - 4s 3ms/step - loss: 1.4440e-04 - val_loss: 1.1334e-05\n",
            "Epoch 5/120\n",
            "1104/1104 [==============================] - 4s 3ms/step - loss: 1.3706e-04 - val_loss: 1.0295e-05\n",
            "Epoch 6/120\n",
            "1104/1104 [==============================] - 4s 3ms/step - loss: 1.3045e-04 - val_loss: 9.4116e-06\n",
            "Epoch 7/120\n",
            "1104/1104 [==============================] - 4s 3ms/step - loss: 1.2655e-04 - val_loss: 8.1152e-06\n",
            "Epoch 8/120\n",
            "1104/1104 [==============================] - 4s 3ms/step - loss: 1.2328e-04 - val_loss: 2.3997e-05\n",
            "Epoch 9/120\n",
            "1104/1104 [==============================] - 4s 3ms/step - loss: 1.2056e-04 - val_loss: 3.4533e-05\n",
            "Epoch 10/120\n",
            "1104/1104 [==============================] - 4s 3ms/step - loss: 1.1822e-04 - val_loss: 1.5853e-05\n",
            "Epoch 11/120\n",
            "1104/1104 [==============================] - 4s 4ms/step - loss: 1.1607e-04 - val_loss: 1.7153e-05\n",
            "Epoch 12/120\n",
            "1104/1104 [==============================] - 4s 3ms/step - loss: 1.1437e-04 - val_loss: 1.5276e-05\n",
            "Epoch 13/120\n",
            "1104/1104 [==============================] - 4s 3ms/step - loss: 1.1296e-04 - val_loss: 6.7152e-06\n",
            "Epoch 14/120\n",
            "1104/1104 [==============================] - 4s 3ms/step - loss: 1.1157e-04 - val_loss: 7.7722e-06\n",
            "Epoch 15/120\n",
            "1104/1104 [==============================] - 4s 3ms/step - loss: 1.1029e-04 - val_loss: 9.0186e-06\n",
            "Epoch 16/120\n",
            "1104/1104 [==============================] - 4s 3ms/step - loss: 1.1004e-04 - val_loss: 1.8305e-05\n",
            "Epoch 17/120\n",
            "1104/1104 [==============================] - 4s 3ms/step - loss: 1.0932e-04 - val_loss: 4.7071e-06\n",
            "Epoch 18/120\n",
            "1104/1104 [==============================] - 4s 3ms/step - loss: 1.0837e-04 - val_loss: 1.0019e-05\n",
            "Epoch 19/120\n",
            "1104/1104 [==============================] - 4s 4ms/step - loss: 1.0807e-04 - val_loss: 9.3095e-06\n",
            "Epoch 20/120\n",
            "1104/1104 [==============================] - 4s 3ms/step - loss: 1.0757e-04 - val_loss: 1.0999e-05\n",
            "Epoch 21/120\n",
            "1104/1104 [==============================] - 4s 3ms/step - loss: 1.0719e-04 - val_loss: 1.2435e-05\n",
            "Epoch 22/120\n",
            "1104/1104 [==============================] - 4s 4ms/step - loss: 1.0727e-04 - val_loss: 7.9922e-06\n",
            "Epoch 23/120\n",
            "1104/1104 [==============================] - 4s 4ms/step - loss: 1.0693e-04 - val_loss: 1.1798e-05\n",
            "Epoch 24/120\n",
            "1104/1104 [==============================] - 4s 4ms/step - loss: 1.0632e-04 - val_loss: 8.1388e-06\n",
            "Epoch 25/120\n",
            "1104/1104 [==============================] - 4s 4ms/step - loss: 1.0593e-04 - val_loss: 5.3423e-06\n",
            "Epoch 26/120\n",
            "1104/1104 [==============================] - 4s 4ms/step - loss: 1.0571e-04 - val_loss: 1.0463e-05\n",
            "Epoch 27/120\n",
            "1104/1104 [==============================] - 4s 4ms/step - loss: 1.0582e-04 - val_loss: 9.3185e-06\n",
            "Epoch 28/120\n",
            "1104/1104 [==============================] - 4s 4ms/step - loss: 1.0534e-04 - val_loss: 1.1183e-05\n",
            "Epoch 29/120\n",
            "1104/1104 [==============================] - 4s 4ms/step - loss: 1.0471e-04 - val_loss: 1.5456e-05\n",
            "Epoch 30/120\n",
            "1104/1104 [==============================] - 4s 4ms/step - loss: 1.0529e-04 - val_loss: 9.2977e-06\n",
            "Epoch 31/120\n",
            "1104/1104 [==============================] - 4s 4ms/step - loss: 1.0522e-04 - val_loss: 8.9699e-06\n",
            "Epoch 32/120\n",
            "1104/1104 [==============================] - 4s 4ms/step - loss: 1.0509e-04 - val_loss: 1.1861e-05\n",
            "Epoch 33/120\n",
            "1104/1104 [==============================] - 4s 4ms/step - loss: 1.0548e-04 - val_loss: 8.2150e-06\n",
            "Epoch 34/120\n",
            "1104/1104 [==============================] - 4s 3ms/step - loss: 1.0516e-04 - val_loss: 7.4569e-06\n",
            "Epoch 35/120\n",
            "1104/1104 [==============================] - 4s 4ms/step - loss: 1.0514e-04 - val_loss: 1.0100e-05\n",
            "Epoch 36/120\n",
            "1104/1104 [==============================] - 4s 4ms/step - loss: 1.0539e-04 - val_loss: 7.8513e-06\n",
            "Epoch 37/120\n",
            "1104/1104 [==============================] - 4s 4ms/step - loss: 1.0516e-04 - val_loss: 6.5483e-06\n",
            "Epoch 38/120\n",
            "1104/1104 [==============================] - 4s 3ms/step - loss: 1.0534e-04 - val_loss: 8.9417e-06\n",
            "Epoch 39/120\n",
            "1104/1104 [==============================] - 4s 4ms/step - loss: 1.0502e-04 - val_loss: 1.0726e-05\n",
            "Epoch 40/120\n",
            "1104/1104 [==============================] - 4s 4ms/step - loss: 1.0503e-04 - val_loss: 9.3302e-06\n",
            "Epoch 41/120\n",
            "1104/1104 [==============================] - 4s 4ms/step - loss: 1.0465e-04 - val_loss: 8.2256e-06\n",
            "Epoch 42/120\n",
            "1104/1104 [==============================] - 4s 4ms/step - loss: 1.0519e-04 - val_loss: 6.6444e-06\n",
            "Epoch 43/120\n",
            "1104/1104 [==============================] - 4s 4ms/step - loss: 1.0544e-04 - val_loss: 9.7265e-06\n",
            "Epoch 44/120\n",
            "1104/1104 [==============================] - 4s 4ms/step - loss: 1.0452e-04 - val_loss: 7.8936e-06\n",
            "Epoch 45/120\n",
            "1104/1104 [==============================] - 4s 4ms/step - loss: 1.0529e-04 - val_loss: 9.7503e-06\n",
            "Epoch 46/120\n",
            "1104/1104 [==============================] - 4s 4ms/step - loss: 1.0523e-04 - val_loss: 7.6711e-06\n",
            "Epoch 47/120\n",
            "1104/1104 [==============================] - 4s 4ms/step - loss: 1.0477e-04 - val_loss: 1.4916e-05\n",
            "Epoch 48/120\n",
            "1104/1104 [==============================] - 4s 4ms/step - loss: 1.0486e-04 - val_loss: 1.8340e-05\n",
            "Epoch 49/120\n",
            "1104/1104 [==============================] - 4s 4ms/step - loss: 1.0493e-04 - val_loss: 6.9518e-06\n",
            "Epoch 50/120\n",
            "1104/1104 [==============================] - 4s 3ms/step - loss: 1.0456e-04 - val_loss: 8.4042e-06\n",
            "Epoch 51/120\n",
            "1104/1104 [==============================] - 4s 3ms/step - loss: 1.0402e-04 - val_loss: 1.0975e-05\n",
            "Epoch 52/120\n",
            "1104/1104 [==============================] - 4s 4ms/step - loss: 1.0443e-04 - val_loss: 9.9125e-06\n",
            "Epoch 53/120\n",
            "1104/1104 [==============================] - 4s 4ms/step - loss: 1.0416e-04 - val_loss: 7.3072e-06\n",
            "Epoch 54/120\n",
            "1104/1104 [==============================] - 4s 4ms/step - loss: 1.0401e-04 - val_loss: 1.0855e-05\n",
            "Epoch 55/120\n",
            "1104/1104 [==============================] - 4s 3ms/step - loss: 1.0384e-04 - val_loss: 9.0949e-06\n",
            "Epoch 56/120\n",
            "1104/1104 [==============================] - 4s 3ms/step - loss: 1.0424e-04 - val_loss: 7.5417e-06\n",
            "Epoch 57/120\n",
            "1104/1104 [==============================] - 4s 4ms/step - loss: 1.0364e-04 - val_loss: 8.5700e-06\n",
            "Epoch 58/120\n",
            "1104/1104 [==============================] - 4s 4ms/step - loss: 1.0421e-04 - val_loss: 1.0024e-05\n",
            "Epoch 59/120\n",
            "1104/1104 [==============================] - 4s 4ms/step - loss: 1.0375e-04 - val_loss: 5.0442e-06\n",
            "Epoch 60/120\n",
            "1104/1104 [==============================] - 4s 4ms/step - loss: 1.0376e-04 - val_loss: 1.2052e-05\n",
            "Epoch 61/120\n",
            "1104/1104 [==============================] - 4s 4ms/step - loss: 1.0349e-04 - val_loss: 1.2486e-05\n",
            "Epoch 62/120\n",
            "1104/1104 [==============================] - 4s 3ms/step - loss: 1.0345e-04 - val_loss: 1.1812e-05\n",
            "Epoch 63/120\n",
            "1104/1104 [==============================] - 4s 3ms/step - loss: 1.0284e-04 - val_loss: 1.6363e-05\n",
            "Epoch 64/120\n",
            "1104/1104 [==============================] - 4s 3ms/step - loss: 1.0265e-04 - val_loss: 8.4222e-06\n",
            "Epoch 65/120\n",
            "1104/1104 [==============================] - 4s 3ms/step - loss: 1.0252e-04 - val_loss: 1.3628e-05\n",
            "Epoch 66/120\n",
            "1104/1104 [==============================] - 4s 3ms/step - loss: 1.0258e-04 - val_loss: 6.3903e-06\n",
            "Epoch 67/120\n",
            "1104/1104 [==============================] - 3s 3ms/step - loss: 1.0239e-04 - val_loss: 8.9852e-06\n",
            "Epoch 68/120\n",
            "1104/1104 [==============================] - 4s 3ms/step - loss: 1.0238e-04 - val_loss: 9.6736e-06\n",
            "Epoch 69/120\n",
            "1104/1104 [==============================] - 4s 3ms/step - loss: 1.0259e-04 - val_loss: 9.7100e-06\n",
            "Epoch 70/120\n",
            "1104/1104 [==============================] - 4s 3ms/step - loss: 1.0216e-04 - val_loss: 7.2426e-06\n",
            "Epoch 71/120\n",
            "1104/1104 [==============================] - 4s 3ms/step - loss: 1.0254e-04 - val_loss: 7.0771e-06\n",
            "Epoch 72/120\n",
            "1104/1104 [==============================] - 4s 4ms/step - loss: 1.0250e-04 - val_loss: 9.5774e-06\n",
            "Epoch 73/120\n",
            "1104/1104 [==============================] - 4s 3ms/step - loss: 1.0254e-04 - val_loss: 1.2309e-05\n",
            "Epoch 74/120\n",
            "1104/1104 [==============================] - 4s 4ms/step - loss: 1.0192e-04 - val_loss: 1.5045e-05\n",
            "Epoch 75/120\n",
            "1104/1104 [==============================] - 4s 3ms/step - loss: 1.0234e-04 - val_loss: 1.2109e-05\n",
            "Epoch 76/120\n",
            "1104/1104 [==============================] - 4s 3ms/step - loss: 1.0206e-04 - val_loss: 7.8380e-06\n",
            "Epoch 77/120\n",
            "1104/1104 [==============================] - 4s 4ms/step - loss: 1.0183e-04 - val_loss: 8.0332e-06\n",
            "Epoch 78/120\n",
            "1104/1104 [==============================] - 4s 4ms/step - loss: 1.0216e-04 - val_loss: 7.5660e-06\n",
            "Epoch 79/120\n",
            "1104/1104 [==============================] - 4s 3ms/step - loss: 1.0191e-04 - val_loss: 8.1534e-06\n",
            "Epoch 80/120\n",
            "1104/1104 [==============================] - 4s 3ms/step - loss: 1.0199e-04 - val_loss: 7.4468e-06\n",
            "Epoch 81/120\n",
            "1104/1104 [==============================] - 4s 3ms/step - loss: 1.0186e-04 - val_loss: 1.1907e-05\n",
            "Epoch 82/120\n",
            "1104/1104 [==============================] - 4s 3ms/step - loss: 1.0216e-04 - val_loss: 1.7574e-05\n",
            "Epoch 83/120\n",
            "1104/1104 [==============================] - 4s 3ms/step - loss: 1.0183e-04 - val_loss: 9.5847e-06\n",
            "Epoch 84/120\n",
            "1104/1104 [==============================] - 4s 3ms/step - loss: 1.0185e-04 - val_loss: 1.4003e-05\n",
            "Epoch 85/120\n",
            "1104/1104 [==============================] - 4s 3ms/step - loss: 1.0141e-04 - val_loss: 9.2255e-06\n",
            "Epoch 86/120\n",
            "1104/1104 [==============================] - 4s 3ms/step - loss: 1.0147e-04 - val_loss: 1.1510e-05\n",
            "Epoch 87/120\n",
            "1104/1104 [==============================] - 4s 3ms/step - loss: 1.0088e-04 - val_loss: 1.0153e-05\n",
            "Epoch 88/120\n",
            "1104/1104 [==============================] - 4s 3ms/step - loss: 1.0141e-04 - val_loss: 7.9211e-06\n",
            "Epoch 89/120\n",
            "1104/1104 [==============================] - 4s 3ms/step - loss: 1.0149e-04 - val_loss: 9.2370e-06\n",
            "Epoch 90/120\n",
            "1104/1104 [==============================] - 4s 3ms/step - loss: 1.0127e-04 - val_loss: 1.0736e-05\n",
            "Epoch 91/120\n",
            "1104/1104 [==============================] - 4s 3ms/step - loss: 1.0135e-04 - val_loss: 1.1418e-05\n",
            "Epoch 92/120\n",
            "1104/1104 [==============================] - 4s 3ms/step - loss: 1.0159e-04 - val_loss: 6.7807e-06\n",
            "Epoch 93/120\n",
            "1104/1104 [==============================] - 4s 3ms/step - loss: 1.0150e-04 - val_loss: 5.9434e-06\n",
            "Epoch 94/120\n",
            "1104/1104 [==============================] - 4s 4ms/step - loss: 1.0107e-04 - val_loss: 1.2185e-05\n",
            "Epoch 95/120\n",
            "1104/1104 [==============================] - 4s 3ms/step - loss: 1.0169e-04 - val_loss: 1.1009e-05\n",
            "Epoch 96/120\n",
            "1104/1104 [==============================] - 4s 3ms/step - loss: 1.0152e-04 - val_loss: 6.5019e-06\n",
            "Epoch 97/120\n",
            "1104/1104 [==============================] - 4s 4ms/step - loss: 1.0106e-04 - val_loss: 9.9485e-06\n",
            "Epoch 98/120\n",
            "1104/1104 [==============================] - 4s 4ms/step - loss: 1.0114e-04 - val_loss: 1.4620e-05\n",
            "Epoch 99/120\n",
            "1104/1104 [==============================] - 4s 4ms/step - loss: 1.0158e-04 - val_loss: 8.4477e-06\n",
            "Epoch 100/120\n",
            "1104/1104 [==============================] - 4s 4ms/step - loss: 1.0142e-04 - val_loss: 7.0145e-06\n",
            "Epoch 101/120\n",
            "1104/1104 [==============================] - 4s 4ms/step - loss: 1.0120e-04 - val_loss: 7.3078e-06\n",
            "Epoch 102/120\n",
            "1104/1104 [==============================] - 4s 4ms/step - loss: 1.0192e-04 - val_loss: 5.5401e-06\n",
            "Epoch 103/120\n",
            "1104/1104 [==============================] - 4s 3ms/step - loss: 1.0150e-04 - val_loss: 1.0348e-05\n",
            "Epoch 104/120\n",
            "1104/1104 [==============================] - 4s 4ms/step - loss: 1.0186e-04 - val_loss: 8.9729e-06\n",
            "Epoch 105/120\n",
            "1104/1104 [==============================] - 4s 3ms/step - loss: 1.0121e-04 - val_loss: 7.0164e-06\n",
            "Epoch 106/120\n",
            "1104/1104 [==============================] - 4s 3ms/step - loss: 1.0184e-04 - val_loss: 1.4020e-05\n",
            "Epoch 107/120\n",
            "1104/1104 [==============================] - 4s 4ms/step - loss: 1.0173e-04 - val_loss: 1.5704e-05\n",
            "Epoch 108/120\n",
            "1104/1104 [==============================] - 4s 3ms/step - loss: 1.0169e-04 - val_loss: 7.9514e-06\n",
            "Epoch 109/120\n",
            "1104/1104 [==============================] - 4s 3ms/step - loss: 1.0168e-04 - val_loss: 6.7113e-06\n",
            "Epoch 110/120\n",
            "1104/1104 [==============================] - 4s 3ms/step - loss: 1.0151e-04 - val_loss: 1.3578e-05\n",
            "Epoch 111/120\n",
            "1104/1104 [==============================] - 4s 3ms/step - loss: 1.0087e-04 - val_loss: 6.7422e-06\n",
            "Epoch 112/120\n",
            "1104/1104 [==============================] - 4s 4ms/step - loss: 1.0100e-04 - val_loss: 1.0625e-05\n",
            "Epoch 113/120\n",
            "1104/1104 [==============================] - 4s 3ms/step - loss: 1.0080e-04 - val_loss: 8.9485e-06\n",
            "Epoch 114/120\n",
            "1104/1104 [==============================] - 4s 3ms/step - loss: 1.0125e-04 - val_loss: 6.3753e-06\n",
            "Epoch 115/120\n",
            "1104/1104 [==============================] - 4s 4ms/step - loss: 1.0055e-04 - val_loss: 7.2701e-06\n",
            "Epoch 116/120\n",
            "1104/1104 [==============================] - 4s 3ms/step - loss: 1.0113e-04 - val_loss: 7.0494e-06\n",
            "Epoch 117/120\n",
            "1104/1104 [==============================] - 3s 3ms/step - loss: 1.0118e-04 - val_loss: 6.5100e-06\n",
            "Epoch 118/120\n",
            "1104/1104 [==============================] - 4s 3ms/step - loss: 1.0110e-04 - val_loss: 1.0572e-05\n",
            "Epoch 119/120\n",
            "1104/1104 [==============================] - 4s 3ms/step - loss: 1.0084e-04 - val_loss: 7.5987e-06\n",
            "Epoch 120/120\n",
            "1104/1104 [==============================] - 4s 3ms/step - loss: 1.0071e-04 - val_loss: 6.8241e-06\n"
          ],
          "name": "stdout"
        }
      ]
    },
    {
      "cell_type": "code",
      "metadata": {
        "colab": {
          "base_uri": "https://localhost:8080/",
          "height": 447
        },
        "id": "OZZYeNX6nZ5G",
        "outputId": "7fc82930-72ee-4fd1-a46f-5e8b547f4ecc"
      },
      "source": [
        "# plot the training losses\n",
        "fig, ax = plt.subplots(figsize=(14, 6), dpi=80)\n",
        "ax.plot(history['loss'], 'b', label='Train', linewidth=2)\n",
        "ax.plot(history['val_loss'], 'r', label='Validation', linewidth=2)\n",
        "ax.set_title('Model loss', fontsize=16)\n",
        "ax.set_ylabel('Loss (mae)')\n",
        "ax.set_xlabel('Epoch')\n",
        "ax.legend(loc='upper right')\n",
        "plt.show()"
      ],
      "execution_count": 28,
      "outputs": [
        {
          "output_type": "display_data",
          "data": {
            "image/png": "[encoded data removed]",
            "text/plain": [
              "<Figure size 1120x480 with 1 Axes>"
            ]
          },
          "metadata": {
            "tags": [],
            "needs_background": "light"
          }
        }
      ]
    },
    {
      "cell_type": "code",
      "metadata": {
        "colab": {
          "base_uri": "https://localhost:8080/",
          "height": 698
        },
        "id": "0kNnmq6lnw8E",
        "outputId": "fa813d0e-87a3-4f14-e741-81217ee4e2f6"
      },
      "source": [
        "# distribusi lost train\n",
        "import seaborn as sns\n",
        "import numpy as np\n",
        "\n",
        "X_pred = model.predict(X_trainset)\n",
        "X_pred = X_pred.reshape(X_pred.shape[0], X_pred.shape[2])\n",
        "X_pred = pd.DataFrame(X_pred, columns=train_data.columns)\n",
        "X_pred.index = train_data.index\n",
        "\n",
        "scored = pd.DataFrame(index=train_data.index)\n",
        "Xtrainset = X_trainset.reshape(X_trainset.shape[0], X_trainset.shape[2])\n",
        "scored['Loss_mae_train'] = np.mean(np.abs(X_pred-Xtrainset), axis = 1)\n",
        "plt.figure(figsize=(16,9), dpi=80)\n",
        "plt.title('Loss Distribution', fontsize=16)\n",
        "sns.distplot(scored['Loss_mae_train'], bins = 20, kde= True, color = 'blue');\n",
        "plt.xlim([0.0,.5])\n",
        "print('MSE Train', scored['Loss_mae_train'].mean())"
      ],
      "execution_count": 29,
      "outputs": [
        {
          "output_type": "stream",
          "text": [
            "/usr/local/lib/python3.7/dist-packages/seaborn/distributions.py:2557: FutureWarning: `distplot` is a deprecated function and will be removed in a future version. Please adapt your code to use either `displot` (a figure-level function with similar flexibility) or `histplot` (an axes-level function for histograms).\n",
            "  warnings.warn(msg, FutureWarning)\n"
          ],
          "name": "stderr"
        },
        {
          "output_type": "stream",
          "text": [
            "MSE Train 0.0022753464893678697\n"
          ],
          "name": "stdout"
        },
        {
          "output_type": "display_data",
          "data": {
            "image/png": "[encoded data removed]",
            "text/plain": [
              "<Figure size 1280x720 with 1 Axes>"
            ]
          },
          "metadata": {
            "tags": [],
            "needs_background": "light"
          }
        }
      ]
    },
    {
      "cell_type": "code",
      "metadata": {
        "colab": {
          "base_uri": "https://localhost:8080/",
          "height": 502
        },
        "id": "dRMscd6_UE5o",
        "outputId": "23cc18f6-478e-4b46-b0e1-ef497a134d6f"
      },
      "source": [
        "X_prediction = scaler.inverse_transform(X_pred)\n",
        "output_ = pd.DataFrame(X_prediction, columns = ['pc1', 'pc2', 'pc3'])\n",
        "output_.head(15)"
      ],
      "execution_count": 30,
      "outputs": [
        {
          "output_type": "execute_result",
          "data": {
            "text/html": [
              "<div>\n",
              "<style scoped>\n",
              "    .dataframe tbody tr th:only-of-type {\n",
              "        vertical-align: middle;\n",
              "    }\n",
              "\n",
              "    .dataframe tbody tr th {\n",
              "        vertical-align: top;\n",
              "    }\n",
              "\n",
              "    .dataframe thead th {\n",
              "        text-align: right;\n",
              "    }\n",
              "</style>\n",
              "<table border=\"1\" class=\"dataframe\">\n",
              "  <thead>\n",
              "    <tr style=\"text-align: right;\">\n",
              "      <th></th>\n",
              "      <th>pc1</th>\n",
              "      <th>pc2</th>\n",
              "      <th>pc3</th>\n",
              "    </tr>\n",
              "  </thead>\n",
              "  <tbody>\n",
              "    <tr>\n",
              "      <th>0</th>\n",
              "      <td>-54.745979</td>\n",
              "      <td>-10.576774</td>\n",
              "      <td>-2.688898</td>\n",
              "    </tr>\n",
              "    <tr>\n",
              "      <th>1</th>\n",
              "      <td>-53.148083</td>\n",
              "      <td>-12.108760</td>\n",
              "      <td>-2.482612</td>\n",
              "    </tr>\n",
              "    <tr>\n",
              "      <th>2</th>\n",
              "      <td>-51.611160</td>\n",
              "      <td>-12.168282</td>\n",
              "      <td>-2.620995</td>\n",
              "    </tr>\n",
              "    <tr>\n",
              "      <th>3</th>\n",
              "      <td>-52.130215</td>\n",
              "      <td>-12.445994</td>\n",
              "      <td>-2.503325</td>\n",
              "    </tr>\n",
              "    <tr>\n",
              "      <th>4</th>\n",
              "      <td>-51.539524</td>\n",
              "      <td>-12.374008</td>\n",
              "      <td>-2.579105</td>\n",
              "    </tr>\n",
              "    <tr>\n",
              "      <th>5</th>\n",
              "      <td>-50.641953</td>\n",
              "      <td>-12.190474</td>\n",
              "      <td>-2.711917</td>\n",
              "    </tr>\n",
              "    <tr>\n",
              "      <th>6</th>\n",
              "      <td>-51.335892</td>\n",
              "      <td>-12.261573</td>\n",
              "      <td>-2.626098</td>\n",
              "    </tr>\n",
              "    <tr>\n",
              "      <th>7</th>\n",
              "      <td>-42.332901</td>\n",
              "      <td>-6.316739</td>\n",
              "      <td>-4.935750</td>\n",
              "    </tr>\n",
              "    <tr>\n",
              "      <th>8</th>\n",
              "      <td>-51.285633</td>\n",
              "      <td>-12.291739</td>\n",
              "      <td>-2.623903</td>\n",
              "    </tr>\n",
              "    <tr>\n",
              "      <th>9</th>\n",
              "      <td>-51.086826</td>\n",
              "      <td>-12.147976</td>\n",
              "      <td>-2.677879</td>\n",
              "    </tr>\n",
              "    <tr>\n",
              "      <th>10</th>\n",
              "      <td>-51.425606</td>\n",
              "      <td>-12.283265</td>\n",
              "      <td>-2.612026</td>\n",
              "    </tr>\n",
              "    <tr>\n",
              "      <th>11</th>\n",
              "      <td>-51.236485</td>\n",
              "      <td>-12.260196</td>\n",
              "      <td>-2.636295</td>\n",
              "    </tr>\n",
              "    <tr>\n",
              "      <th>12</th>\n",
              "      <td>-51.225964</td>\n",
              "      <td>-12.254314</td>\n",
              "      <td>-2.638740</td>\n",
              "    </tr>\n",
              "    <tr>\n",
              "      <th>13</th>\n",
              "      <td>-51.198273</td>\n",
              "      <td>-12.257619</td>\n",
              "      <td>-2.640701</td>\n",
              "    </tr>\n",
              "    <tr>\n",
              "      <th>14</th>\n",
              "      <td>-51.123642</td>\n",
              "      <td>-12.254762</td>\n",
              "      <td>-2.648790</td>\n",
              "    </tr>\n",
              "  </tbody>\n",
              "</table>\n",
              "</div>"
            ],
            "text/plain": [
              "          pc1        pc2       pc3\n",
              "0  -54.745979 -10.576774 -2.688898\n",
              "1  -53.148083 -12.108760 -2.482612\n",
              "2  -51.611160 -12.168282 -2.620995\n",
              "3  -52.130215 -12.445994 -2.503325\n",
              "4  -51.539524 -12.374008 -2.579105\n",
              "5  -50.641953 -12.190474 -2.711917\n",
              "6  -51.335892 -12.261573 -2.626098\n",
              "7  -42.332901  -6.316739 -4.935750\n",
              "8  -51.285633 -12.291739 -2.623903\n",
              "9  -51.086826 -12.147976 -2.677879\n",
              "10 -51.425606 -12.283265 -2.612026\n",
              "11 -51.236485 -12.260196 -2.636295\n",
              "12 -51.225964 -12.254314 -2.638740\n",
              "13 -51.198273 -12.257619 -2.640701\n",
              "14 -51.123642 -12.254762 -2.648790"
            ]
          },
          "metadata": {
            "tags": []
          },
          "execution_count": 30
        }
      ]
    },
    {
      "cell_type": "code",
      "metadata": {
        "colab": {
          "base_uri": "https://localhost:8080/",
          "height": 366
        },
        "id": "RI1spf1-UGfU",
        "outputId": "b0a73f7b-7046-487d-aa18-2674b903915f"
      },
      "source": [
        "# calculate the loss on the test set\n",
        "X_pred = model.predict(X_testset)\n",
        "X_pred = X_pred.reshape(X_pred.shape[0], X_pred.shape[2])\n",
        "X_pred = pd.DataFrame(X_pred, columns=test_data.columns)\n",
        "X_pred.index = test_data.index\n",
        "\n",
        "data = pd.DataFrame(index=test_data.index)\n",
        "Xtest = X_testset.reshape(X_testset.shape[0], X_testset.shape[2])\n",
        "\n",
        "data['Loss_mae_test'] = np.mean(np.abs(X_pred-Xtest), axis = 1)\n",
        "#data['Threshold'] = 0.371325511752544\n",
        "#data['Anomaly'] = data['Loss_mae_test'] > data['Threshold']\n",
        "#data.head()\n",
        "#plt.figure(figsize=(16,9), dpi=80)\n",
        "plt.title('Loss Distribution', fontsize=16)\n",
        "sns.distplot(data['Loss_mae_test'], bins = 20, kde= True, color = 'blue');\n",
        "plt.xlim([0.0,.5])\n",
        "print('MSE Test', data['Loss_mae_test'].mean())"
      ],
      "execution_count": 31,
      "outputs": [
        {
          "output_type": "stream",
          "text": [
            "/usr/local/lib/python3.7/dist-packages/seaborn/distributions.py:2557: FutureWarning: `distplot` is a deprecated function and will be removed in a future version. Please adapt your code to use either `displot` (a figure-level function with similar flexibility) or `histplot` (an axes-level function for histograms).\n",
            "  warnings.warn(msg, FutureWarning)\n"
          ],
          "name": "stderr"
        },
        {
          "output_type": "stream",
          "text": [
            "MSE Test 0.4097496006019563\n"
          ],
          "name": "stdout"
        },
        {
          "output_type": "display_data",
          "data": {
            "image/png": "[encoded data removed]",
            "text/plain": [
              "<Figure size 432x288 with 1 Axes>"
            ]
          },
          "metadata": {
            "tags": [],
            "needs_background": "light"
          }
        }
      ]
    },
    {
      "cell_type": "code",
      "metadata": {
        "colab": {
          "base_uri": "https://localhost:8080/",
          "height": 502
        },
        "id": "SbOdjuUcUMgS",
        "outputId": "95071ba5-9bf3-4dd5-910d-b22fc42f8426"
      },
      "source": [
        "X_prediction = scaler.inverse_transform(X_pred)\n",
        "output = pd.DataFrame(X_prediction, columns = ['pc1', 'pc2', 'pc3'])\n",
        "output.head(15)"
      ],
      "execution_count": 32,
      "outputs": [
        {
          "output_type": "execute_result",
          "data": {
            "text/html": [
              "<div>\n",
              "<style scoped>\n",
              "    .dataframe tbody tr th:only-of-type {\n",
              "        vertical-align: middle;\n",
              "    }\n",
              "\n",
              "    .dataframe tbody tr th {\n",
              "        vertical-align: top;\n",
              "    }\n",
              "\n",
              "    .dataframe thead th {\n",
              "        text-align: right;\n",
              "    }\n",
              "</style>\n",
              "<table border=\"1\" class=\"dataframe\">\n",
              "  <thead>\n",
              "    <tr style=\"text-align: right;\">\n",
              "      <th></th>\n",
              "      <th>pc1</th>\n",
              "      <th>pc2</th>\n",
              "      <th>pc3</th>\n",
              "    </tr>\n",
              "  </thead>\n",
              "  <tbody>\n",
              "    <tr>\n",
              "      <th>0</th>\n",
              "      <td>-37.524895</td>\n",
              "      <td>-12.352262</td>\n",
              "      <td>-3.975427</td>\n",
              "    </tr>\n",
              "    <tr>\n",
              "      <th>1</th>\n",
              "      <td>-37.889462</td>\n",
              "      <td>-11.893605</td>\n",
              "      <td>-4.048485</td>\n",
              "    </tr>\n",
              "    <tr>\n",
              "      <th>2</th>\n",
              "      <td>-37.492893</td>\n",
              "      <td>-12.392525</td>\n",
              "      <td>-3.969014</td>\n",
              "    </tr>\n",
              "    <tr>\n",
              "      <th>3</th>\n",
              "      <td>-37.084751</td>\n",
              "      <td>-12.906005</td>\n",
              "      <td>-3.887223</td>\n",
              "    </tr>\n",
              "    <tr>\n",
              "      <th>4</th>\n",
              "      <td>-37.495274</td>\n",
              "      <td>-12.389525</td>\n",
              "      <td>-3.969492</td>\n",
              "    </tr>\n",
              "    <tr>\n",
              "      <th>5</th>\n",
              "      <td>-37.147465</td>\n",
              "      <td>-12.827100</td>\n",
              "      <td>-3.899792</td>\n",
              "    </tr>\n",
              "    <tr>\n",
              "      <th>6</th>\n",
              "      <td>-36.757408</td>\n",
              "      <td>-13.317826</td>\n",
              "      <td>-3.821626</td>\n",
              "    </tr>\n",
              "    <tr>\n",
              "      <th>7</th>\n",
              "      <td>-37.162460</td>\n",
              "      <td>-12.808236</td>\n",
              "      <td>-3.902797</td>\n",
              "    </tr>\n",
              "    <tr>\n",
              "      <th>8</th>\n",
              "      <td>-36.896496</td>\n",
              "      <td>-13.142846</td>\n",
              "      <td>-3.849498</td>\n",
              "    </tr>\n",
              "    <tr>\n",
              "      <th>9</th>\n",
              "      <td>-36.724743</td>\n",
              "      <td>-13.358922</td>\n",
              "      <td>-3.815080</td>\n",
              "    </tr>\n",
              "    <tr>\n",
              "      <th>10</th>\n",
              "      <td>-36.355267</td>\n",
              "      <td>-13.823757</td>\n",
              "      <td>-3.741038</td>\n",
              "    </tr>\n",
              "    <tr>\n",
              "      <th>11</th>\n",
              "      <td>-36.132511</td>\n",
              "      <td>-14.104003</td>\n",
              "      <td>-3.696399</td>\n",
              "    </tr>\n",
              "    <tr>\n",
              "      <th>12</th>\n",
              "      <td>-36.343861</td>\n",
              "      <td>-13.838106</td>\n",
              "      <td>-3.738752</td>\n",
              "    </tr>\n",
              "    <tr>\n",
              "      <th>13</th>\n",
              "      <td>-36.091312</td>\n",
              "      <td>-14.155835</td>\n",
              "      <td>-3.688143</td>\n",
              "    </tr>\n",
              "    <tr>\n",
              "      <th>14</th>\n",
              "      <td>-35.993771</td>\n",
              "      <td>-14.278552</td>\n",
              "      <td>-3.668595</td>\n",
              "    </tr>\n",
              "  </tbody>\n",
              "</table>\n",
              "</div>"
            ],
            "text/plain": [
              "          pc1        pc2       pc3\n",
              "0  -37.524895 -12.352262 -3.975427\n",
              "1  -37.889462 -11.893605 -4.048485\n",
              "2  -37.492893 -12.392525 -3.969014\n",
              "3  -37.084751 -12.906005 -3.887223\n",
              "4  -37.495274 -12.389525 -3.969492\n",
              "5  -37.147465 -12.827100 -3.899792\n",
              "6  -36.757408 -13.317826 -3.821626\n",
              "7  -37.162460 -12.808236 -3.902797\n",
              "8  -36.896496 -13.142846 -3.849498\n",
              "9  -36.724743 -13.358922 -3.815080\n",
              "10 -36.355267 -13.823757 -3.741038\n",
              "11 -36.132511 -14.104003 -3.696399\n",
              "12 -36.343861 -13.838106 -3.738752\n",
              "13 -36.091312 -14.155835 -3.688143\n",
              "14 -35.993771 -14.278552 -3.668595"
            ]
          },
          "metadata": {
            "tags": []
          },
          "execution_count": 32
        }
      ]
    },
    {
      "cell_type": "code",
      "metadata": {
        "colab": {
          "base_uri": "https://localhost:8080/"
        },
        "id": "5osW8fPnZTMl",
        "outputId": "4b8fb180-231f-4e80-94da-b6da24fa93c2"
      },
      "source": [
        "from sklearn.mixture import GaussianMixture\n",
        "\n",
        "data = output_[['pc1', 'pc2', 'pc3']]\n",
        "gmm = GaussianMixture(n_components = 2) \n",
        "\n",
        "gmm.fit(data)"
      ],
      "execution_count": 33,
      "outputs": [
        {
          "output_type": "execute_result",
          "data": {
            "text/plain": [
              "GaussianMixture(covariance_type='full', init_params='kmeans', max_iter=100,\n",
              "                means_init=None, n_components=2, n_init=1, precisions_init=None,\n",
              "                random_state=None, reg_covar=1e-06, tol=0.001, verbose=0,\n",
              "                verbose_interval=10, warm_start=False, weights_init=None)"
            ]
          },
          "metadata": {
            "tags": []
          },
          "execution_count": 33
        }
      ]
    },
    {
      "cell_type": "code",
      "metadata": {
        "id": "meXLCdMNZTGp"
      },
      "source": [
        "output_['anomaly'] = gmm.predict(data)"
      ],
      "execution_count": 34,
      "outputs": []
    },
    {
      "cell_type": "code",
      "metadata": {
        "colab": {
          "base_uri": "https://localhost:8080/"
        },
        "id": "uXdy88e4ZTB_",
        "outputId": "f021136f-a9a8-4703-af36-58bf97da281a"
      },
      "source": [
        "output_['anomaly'].value_counts()"
      ],
      "execution_count": 35,
      "outputs": [
        {
          "output_type": "execute_result",
          "data": {
            "text/plain": [
              "0    6997\n",
              "1    4616\n",
              "Name: anomaly, dtype: int64"
            ]
          },
          "metadata": {
            "tags": []
          },
          "execution_count": 35
        }
      ]
    },
    {
      "cell_type": "code",
      "metadata": {
        "colab": {
          "base_uri": "https://localhost:8080/"
        },
        "id": "O4F3oKuwZS52",
        "outputId": "18d78e3d-78e0-4148-e197-a68e44fc1eec"
      },
      "source": [
        "from sklearn.metrics import silhouette_samples, silhouette_score\n",
        "print(\"gmm: silhouttte: \", silhouette_score(data, output_['anomaly']))"
      ],
      "execution_count": 36,
      "outputs": [
        {
          "output_type": "stream",
          "text": [
            "gmm: silhouttte:  0.5943847\n"
          ],
          "name": "stdout"
        }
      ]
    },
    {
      "cell_type": "code",
      "metadata": {
        "colab": {
          "base_uri": "https://localhost:8080/",
          "height": 200
        },
        "id": "3PGXvN1oULPs",
        "outputId": "b5542e39-b21e-44d6-d91c-a4d4e7e40852"
      },
      "source": [
        "output_.head()"
      ],
      "execution_count": 37,
      "outputs": [
        {
          "output_type": "execute_result",
          "data": {
            "text/html": [
              "<div>\n",
              "<style scoped>\n",
              "    .dataframe tbody tr th:only-of-type {\n",
              "        vertical-align: middle;\n",
              "    }\n",
              "\n",
              "    .dataframe tbody tr th {\n",
              "        vertical-align: top;\n",
              "    }\n",
              "\n",
              "    .dataframe thead th {\n",
              "        text-align: right;\n",
              "    }\n",
              "</style>\n",
              "<table border=\"1\" class=\"dataframe\">\n",
              "  <thead>\n",
              "    <tr style=\"text-align: right;\">\n",
              "      <th></th>\n",
              "      <th>pc1</th>\n",
              "      <th>pc2</th>\n",
              "      <th>pc3</th>\n",
              "      <th>anomaly</th>\n",
              "    </tr>\n",
              "  </thead>\n",
              "  <tbody>\n",
              "    <tr>\n",
              "      <th>0</th>\n",
              "      <td>-54.745979</td>\n",
              "      <td>-10.576774</td>\n",
              "      <td>-2.688898</td>\n",
              "      <td>1</td>\n",
              "    </tr>\n",
              "    <tr>\n",
              "      <th>1</th>\n",
              "      <td>-53.148083</td>\n",
              "      <td>-12.108760</td>\n",
              "      <td>-2.482612</td>\n",
              "      <td>1</td>\n",
              "    </tr>\n",
              "    <tr>\n",
              "      <th>2</th>\n",
              "      <td>-51.611160</td>\n",
              "      <td>-12.168282</td>\n",
              "      <td>-2.620995</td>\n",
              "      <td>1</td>\n",
              "    </tr>\n",
              "    <tr>\n",
              "      <th>3</th>\n",
              "      <td>-52.130215</td>\n",
              "      <td>-12.445994</td>\n",
              "      <td>-2.503325</td>\n",
              "      <td>1</td>\n",
              "    </tr>\n",
              "    <tr>\n",
              "      <th>4</th>\n",
              "      <td>-51.539524</td>\n",
              "      <td>-12.374008</td>\n",
              "      <td>-2.579105</td>\n",
              "      <td>1</td>\n",
              "    </tr>\n",
              "  </tbody>\n",
              "</table>\n",
              "</div>"
            ],
            "text/plain": [
              "         pc1        pc2       pc3  anomaly\n",
              "0 -54.745979 -10.576774 -2.688898        1\n",
              "1 -53.148083 -12.108760 -2.482612        1\n",
              "2 -51.611160 -12.168282 -2.620995        1\n",
              "3 -52.130215 -12.445994 -2.503325        1\n",
              "4 -51.539524 -12.374008 -2.579105        1"
            ]
          },
          "metadata": {
            "tags": []
          },
          "execution_count": 37
        }
      ]
    },
    {
      "cell_type": "code",
      "metadata": {
        "id": "sKK-9D7BULJ_"
      },
      "source": [
        "principalDf = output_[['pc1', 'pc2', 'pc3', 'anomaly']]"
      ],
      "execution_count": 38,
      "outputs": []
    },
    {
      "cell_type": "code",
      "metadata": {
        "colab": {
          "base_uri": "https://localhost:8080/",
          "height": 200
        },
        "id": "dkk3BXSjULDE",
        "outputId": "18648f9d-ab5e-43c6-dad4-aaa989158626"
      },
      "source": [
        "principalDf.head()"
      ],
      "execution_count": 39,
      "outputs": [
        {
          "output_type": "execute_result",
          "data": {
            "text/html": [
              "<div>\n",
              "<style scoped>\n",
              "    .dataframe tbody tr th:only-of-type {\n",
              "        vertical-align: middle;\n",
              "    }\n",
              "\n",
              "    .dataframe tbody tr th {\n",
              "        vertical-align: top;\n",
              "    }\n",
              "\n",
              "    .dataframe thead th {\n",
              "        text-align: right;\n",
              "    }\n",
              "</style>\n",
              "<table border=\"1\" class=\"dataframe\">\n",
              "  <thead>\n",
              "    <tr style=\"text-align: right;\">\n",
              "      <th></th>\n",
              "      <th>pc1</th>\n",
              "      <th>pc2</th>\n",
              "      <th>pc3</th>\n",
              "      <th>anomaly</th>\n",
              "    </tr>\n",
              "  </thead>\n",
              "  <tbody>\n",
              "    <tr>\n",
              "      <th>0</th>\n",
              "      <td>-54.745979</td>\n",
              "      <td>-10.576774</td>\n",
              "      <td>-2.688898</td>\n",
              "      <td>1</td>\n",
              "    </tr>\n",
              "    <tr>\n",
              "      <th>1</th>\n",
              "      <td>-53.148083</td>\n",
              "      <td>-12.108760</td>\n",
              "      <td>-2.482612</td>\n",
              "      <td>1</td>\n",
              "    </tr>\n",
              "    <tr>\n",
              "      <th>2</th>\n",
              "      <td>-51.611160</td>\n",
              "      <td>-12.168282</td>\n",
              "      <td>-2.620995</td>\n",
              "      <td>1</td>\n",
              "    </tr>\n",
              "    <tr>\n",
              "      <th>3</th>\n",
              "      <td>-52.130215</td>\n",
              "      <td>-12.445994</td>\n",
              "      <td>-2.503325</td>\n",
              "      <td>1</td>\n",
              "    </tr>\n",
              "    <tr>\n",
              "      <th>4</th>\n",
              "      <td>-51.539524</td>\n",
              "      <td>-12.374008</td>\n",
              "      <td>-2.579105</td>\n",
              "      <td>1</td>\n",
              "    </tr>\n",
              "  </tbody>\n",
              "</table>\n",
              "</div>"
            ],
            "text/plain": [
              "         pc1        pc2       pc3  anomaly\n",
              "0 -54.745979 -10.576774 -2.688898        1\n",
              "1 -53.148083 -12.108760 -2.482612        1\n",
              "2 -51.611160 -12.168282 -2.620995        1\n",
              "3 -52.130215 -12.445994 -2.503325        1\n",
              "4 -51.539524 -12.374008 -2.579105        1"
            ]
          },
          "metadata": {
            "tags": []
          },
          "execution_count": 39
        }
      ]
    },
    {
      "cell_type": "code",
      "metadata": {
        "id": "AJTdrGWlUK7c"
      },
      "source": [
        "import numpy as np\n",
        "\n",
        "# tempc-sht - inlier feature 1,  tempc_ds - inlier feature 2, hum_sht - inlier feature 3\n",
        "inliers_pc1 = np.array(principalDf['pc1'][principalDf['anomaly'] == 0]).reshape(-1,1)\n",
        "inliers_pc2 = np.array(principalDf['pc2'][principalDf['anomaly'] == 0]).reshape(-1,1)\n",
        "inliers_pc3 = np.array(principalDf['pc3'][principalDf['anomaly'] == 0]).reshape(-1,1)\n",
        "    \n",
        "# tempc-sht - inlier feature 1,  tempc_ds - inlier feature 2, hum_sht - inlier feature 3\n",
        "outliers_pc1 = principalDf['pc1'][principalDf['anomaly'] == 1].values.reshape(-1,1)\n",
        "outliers_pc2 = principalDf['pc2'][principalDf['anomaly'] == 1].values.reshape(-1,1)\n",
        "outliers_pc3 = principalDf['pc3'][principalDf['anomaly'] == 1].values.reshape(-1,1)"
      ],
      "execution_count": 40,
      "outputs": []
    },
    {
      "cell_type": "code",
      "metadata": {
        "colab": {
          "base_uri": "https://localhost:8080/",
          "height": 411
        },
        "id": "xjwcWxQ9aKvs",
        "outputId": "9e73f15a-d35c-49fe-a788-64867fbdb82d"
      },
      "source": [
        "from matplotlib import pyplot\n",
        "from mpl_toolkits.mplot3d import Axes3D\n",
        "import random\n",
        "\n",
        "\n",
        "fig = pyplot.figure(figsize=(7, 7))\n",
        "ax = plt.axes(projection='3d')\n",
        "ax.scatter(inliers_pc1, inliers_pc2, inliers_pc3, c='blue',s=20, edgecolor='k')\n",
        "ax.scatter(outliers_pc1, outliers_pc2, outliers_pc3, c='red',s=20, edgecolor='k')\n",
        "ax.set_xlabel('pc1')\n",
        "ax.set_ylabel('pc2')\n",
        "ax.set_zlabel('pc3');\n",
        "pyplot.show()"
      ],
      "execution_count": 41,
      "outputs": [
        {
          "output_type": "display_data",
          "data": {
            "image/png": "[encoded data removed]",
            "text/plain": [
              "<Figure size 504x504 with 1 Axes>"
            ]
          },
          "metadata": {
            "tags": [],
            "needs_background": "light"
          }
        }
      ]
    },
    {
      "cell_type": "code",
      "metadata": {
        "colab": {
          "base_uri": "https://localhost:8080/"
        },
        "id": "eUexbbrEaK4s",
        "outputId": "d94b89dd-0ae8-4776-cd8f-bb840dc8b874"
      },
      "source": [
        "from sklearn.mixture import GaussianMixture\n",
        "gmm = GaussianMixture(n_components = 2) \n",
        "\n",
        "gmm.fit(output[['pc1', 'pc2', 'pc3']])"
      ],
      "execution_count": 42,
      "outputs": [
        {
          "output_type": "execute_result",
          "data": {
            "text/plain": [
              "GaussianMixture(covariance_type='full', init_params='kmeans', max_iter=100,\n",
              "                means_init=None, n_components=2, n_init=1, precisions_init=None,\n",
              "                random_state=None, reg_covar=1e-06, tol=0.001, verbose=0,\n",
              "                verbose_interval=10, warm_start=False, weights_init=None)"
            ]
          },
          "metadata": {
            "tags": []
          },
          "execution_count": 42
        }
      ]
    },
    {
      "cell_type": "code",
      "metadata": {
        "id": "aQrEwz8maLVV"
      },
      "source": [
        "output['anomaly'] = gmm.predict(output[['pc1', 'pc2', 'pc3']])"
      ],
      "execution_count": 43,
      "outputs": []
    },
    {
      "cell_type": "code",
      "metadata": {
        "id": "46dLPVJSaLu5"
      },
      "source": [
        "data_1 = output[['pc1', 'pc2', 'pc3']]"
      ],
      "execution_count": 44,
      "outputs": []
    },
    {
      "cell_type": "code",
      "metadata": {
        "colab": {
          "base_uri": "https://localhost:8080/"
        },
        "id": "dkAUacrcaL4_",
        "outputId": "b94b958c-831f-4a7b-b1a4-8039a83ddf10"
      },
      "source": [
        "from sklearn.metrics import silhouette_samples, silhouette_score\n",
        "print(\"gmm: silhouttte: \", silhouette_score(data_1, output['anomaly']))"
      ],
      "execution_count": 45,
      "outputs": [
        {
          "output_type": "stream",
          "text": [
            "gmm: silhouttte:  0.67552865\n"
          ],
          "name": "stdout"
        }
      ]
    },
    {
      "cell_type": "code",
      "metadata": {
        "id": "IeYndCYmaMKo",
        "colab": {
          "base_uri": "https://localhost:8080/",
          "height": 408
        },
        "outputId": "d4bcdbf9-871b-4d1f-d2d2-afe66371b24a"
      },
      "source": [
        "output_"
      ],
      "execution_count": 46,
      "outputs": [
        {
          "output_type": "execute_result",
          "data": {
            "text/html": [
              "<div>\n",
              "<style scoped>\n",
              "    .dataframe tbody tr th:only-of-type {\n",
              "        vertical-align: middle;\n",
              "    }\n",
              "\n",
              "    .dataframe tbody tr th {\n",
              "        vertical-align: top;\n",
              "    }\n",
              "\n",
              "    .dataframe thead th {\n",
              "        text-align: right;\n",
              "    }\n",
              "</style>\n",
              "<table border=\"1\" class=\"dataframe\">\n",
              "  <thead>\n",
              "    <tr style=\"text-align: right;\">\n",
              "      <th></th>\n",
              "      <th>pc1</th>\n",
              "      <th>pc2</th>\n",
              "      <th>pc3</th>\n",
              "      <th>anomaly</th>\n",
              "    </tr>\n",
              "  </thead>\n",
              "  <tbody>\n",
              "    <tr>\n",
              "      <th>0</th>\n",
              "      <td>-54.745979</td>\n",
              "      <td>-10.576774</td>\n",
              "      <td>-2.688898</td>\n",
              "      <td>1</td>\n",
              "    </tr>\n",
              "    <tr>\n",
              "      <th>1</th>\n",
              "      <td>-53.148083</td>\n",
              "      <td>-12.108760</td>\n",
              "      <td>-2.482612</td>\n",
              "      <td>1</td>\n",
              "    </tr>\n",
              "    <tr>\n",
              "      <th>2</th>\n",
              "      <td>-51.611160</td>\n",
              "      <td>-12.168282</td>\n",
              "      <td>-2.620995</td>\n",
              "      <td>1</td>\n",
              "    </tr>\n",
              "    <tr>\n",
              "      <th>3</th>\n",
              "      <td>-52.130215</td>\n",
              "      <td>-12.445994</td>\n",
              "      <td>-2.503325</td>\n",
              "      <td>1</td>\n",
              "    </tr>\n",
              "    <tr>\n",
              "      <th>4</th>\n",
              "      <td>-51.539524</td>\n",
              "      <td>-12.374008</td>\n",
              "      <td>-2.579105</td>\n",
              "      <td>1</td>\n",
              "    </tr>\n",
              "    <tr>\n",
              "      <th>...</th>\n",
              "      <td>...</td>\n",
              "      <td>...</td>\n",
              "      <td>...</td>\n",
              "      <td>...</td>\n",
              "    </tr>\n",
              "    <tr>\n",
              "      <th>11608</th>\n",
              "      <td>-51.190346</td>\n",
              "      <td>-12.140261</td>\n",
              "      <td>-2.669441</td>\n",
              "      <td>0</td>\n",
              "    </tr>\n",
              "    <tr>\n",
              "      <th>11609</th>\n",
              "      <td>-51.240978</td>\n",
              "      <td>-12.166572</td>\n",
              "      <td>-2.658148</td>\n",
              "      <td>0</td>\n",
              "    </tr>\n",
              "    <tr>\n",
              "      <th>11610</th>\n",
              "      <td>-51.197571</td>\n",
              "      <td>-12.220408</td>\n",
              "      <td>-2.649634</td>\n",
              "      <td>0</td>\n",
              "    </tr>\n",
              "    <tr>\n",
              "      <th>11611</th>\n",
              "      <td>-51.090900</td>\n",
              "      <td>-12.201838</td>\n",
              "      <td>-2.664646</td>\n",
              "      <td>0</td>\n",
              "    </tr>\n",
              "    <tr>\n",
              "      <th>11612</th>\n",
              "      <td>-51.139858</td>\n",
              "      <td>-12.252549</td>\n",
              "      <td>-2.647707</td>\n",
              "      <td>0</td>\n",
              "    </tr>\n",
              "  </tbody>\n",
              "</table>\n",
              "<p>11613 rows × 4 columns</p>\n",
              "</div>"
            ],
            "text/plain": [
              "             pc1        pc2       pc3  anomaly\n",
              "0     -54.745979 -10.576774 -2.688898        1\n",
              "1     -53.148083 -12.108760 -2.482612        1\n",
              "2     -51.611160 -12.168282 -2.620995        1\n",
              "3     -52.130215 -12.445994 -2.503325        1\n",
              "4     -51.539524 -12.374008 -2.579105        1\n",
              "...          ...        ...       ...      ...\n",
              "11608 -51.190346 -12.140261 -2.669441        0\n",
              "11609 -51.240978 -12.166572 -2.658148        0\n",
              "11610 -51.197571 -12.220408 -2.649634        0\n",
              "11611 -51.090900 -12.201838 -2.664646        0\n",
              "11612 -51.139858 -12.252549 -2.647707        0\n",
              "\n",
              "[11613 rows x 4 columns]"
            ]
          },
          "metadata": {
            "tags": []
          },
          "execution_count": 46
        }
      ]
    },
    {
      "cell_type": "code",
      "metadata": {
        "colab": {
          "base_uri": "https://localhost:8080/",
          "height": 408
        },
        "id": "QYcu0thFLct8",
        "outputId": "0ccc841f-4f2e-442e-c67d-101d8ede40e2"
      },
      "source": [
        "output"
      ],
      "execution_count": 47,
      "outputs": [
        {
          "output_type": "execute_result",
          "data": {
            "text/html": [
              "<div>\n",
              "<style scoped>\n",
              "    .dataframe tbody tr th:only-of-type {\n",
              "        vertical-align: middle;\n",
              "    }\n",
              "\n",
              "    .dataframe tbody tr th {\n",
              "        vertical-align: top;\n",
              "    }\n",
              "\n",
              "    .dataframe thead th {\n",
              "        text-align: right;\n",
              "    }\n",
              "</style>\n",
              "<table border=\"1\" class=\"dataframe\">\n",
              "  <thead>\n",
              "    <tr style=\"text-align: right;\">\n",
              "      <th></th>\n",
              "      <th>pc1</th>\n",
              "      <th>pc2</th>\n",
              "      <th>pc3</th>\n",
              "      <th>anomaly</th>\n",
              "    </tr>\n",
              "  </thead>\n",
              "  <tbody>\n",
              "    <tr>\n",
              "      <th>0</th>\n",
              "      <td>-37.524895</td>\n",
              "      <td>-12.352262</td>\n",
              "      <td>-3.975427</td>\n",
              "      <td>1</td>\n",
              "    </tr>\n",
              "    <tr>\n",
              "      <th>1</th>\n",
              "      <td>-37.889462</td>\n",
              "      <td>-11.893605</td>\n",
              "      <td>-4.048485</td>\n",
              "      <td>1</td>\n",
              "    </tr>\n",
              "    <tr>\n",
              "      <th>2</th>\n",
              "      <td>-37.492893</td>\n",
              "      <td>-12.392525</td>\n",
              "      <td>-3.969014</td>\n",
              "      <td>1</td>\n",
              "    </tr>\n",
              "    <tr>\n",
              "      <th>3</th>\n",
              "      <td>-37.084751</td>\n",
              "      <td>-12.906005</td>\n",
              "      <td>-3.887223</td>\n",
              "      <td>1</td>\n",
              "    </tr>\n",
              "    <tr>\n",
              "      <th>4</th>\n",
              "      <td>-37.495274</td>\n",
              "      <td>-12.389525</td>\n",
              "      <td>-3.969492</td>\n",
              "      <td>1</td>\n",
              "    </tr>\n",
              "    <tr>\n",
              "      <th>...</th>\n",
              "      <td>...</td>\n",
              "      <td>...</td>\n",
              "      <td>...</td>\n",
              "      <td>...</td>\n",
              "    </tr>\n",
              "    <tr>\n",
              "      <th>2899</th>\n",
              "      <td>-64.099007</td>\n",
              "      <td>-7.140553</td>\n",
              "      <td>-2.586696</td>\n",
              "      <td>0</td>\n",
              "    </tr>\n",
              "    <tr>\n",
              "      <th>2900</th>\n",
              "      <td>-42.328278</td>\n",
              "      <td>-6.317168</td>\n",
              "      <td>-4.936172</td>\n",
              "      <td>0</td>\n",
              "    </tr>\n",
              "    <tr>\n",
              "      <th>2901</th>\n",
              "      <td>-61.440971</td>\n",
              "      <td>-7.071668</td>\n",
              "      <td>-2.869574</td>\n",
              "      <td>0</td>\n",
              "    </tr>\n",
              "    <tr>\n",
              "      <th>2902</th>\n",
              "      <td>-64.720619</td>\n",
              "      <td>-7.199216</td>\n",
              "      <td>-2.515197</td>\n",
              "      <td>0</td>\n",
              "    </tr>\n",
              "    <tr>\n",
              "      <th>2903</th>\n",
              "      <td>-47.800701</td>\n",
              "      <td>-6.506392</td>\n",
              "      <td>-4.347823</td>\n",
              "      <td>0</td>\n",
              "    </tr>\n",
              "  </tbody>\n",
              "</table>\n",
              "<p>2904 rows × 4 columns</p>\n",
              "</div>"
            ],
            "text/plain": [
              "            pc1        pc2       pc3  anomaly\n",
              "0    -37.524895 -12.352262 -3.975427        1\n",
              "1    -37.889462 -11.893605 -4.048485        1\n",
              "2    -37.492893 -12.392525 -3.969014        1\n",
              "3    -37.084751 -12.906005 -3.887223        1\n",
              "4    -37.495274 -12.389525 -3.969492        1\n",
              "...         ...        ...       ...      ...\n",
              "2899 -64.099007  -7.140553 -2.586696        0\n",
              "2900 -42.328278  -6.317168 -4.936172        0\n",
              "2901 -61.440971  -7.071668 -2.869574        0\n",
              "2902 -64.720619  -7.199216 -2.515197        0\n",
              "2903 -47.800701  -6.506392 -4.347823        0\n",
              "\n",
              "[2904 rows x 4 columns]"
            ]
          },
          "metadata": {
            "tags": []
          },
          "execution_count": 47
        }
      ]
    },
    {
      "cell_type": "code",
      "metadata": {
        "id": "IdItbtAOLdgI"
      },
      "source": [
        "df['anomaly'] = pd.concat((output_.anomaly,output.anomaly)).values"
      ],
      "execution_count": 48,
      "outputs": []
    },
    {
      "cell_type": "code",
      "metadata": {
        "colab": {
          "base_uri": "https://localhost:8080/",
          "height": 440
        },
        "id": "KKVedky9Ldk0",
        "outputId": "99f9b10b-a0a0-404e-f868-b4a29fc0a0f1"
      },
      "source": [
        "df"
      ],
      "execution_count": 49,
      "outputs": [
        {
          "output_type": "execute_result",
          "data": {
            "text/html": [
              "<div>\n",
              "<style scoped>\n",
              "    .dataframe tbody tr th:only-of-type {\n",
              "        vertical-align: middle;\n",
              "    }\n",
              "\n",
              "    .dataframe tbody tr th {\n",
              "        vertical-align: top;\n",
              "    }\n",
              "\n",
              "    .dataframe thead th {\n",
              "        text-align: right;\n",
              "    }\n",
              "</style>\n",
              "<table border=\"1\" class=\"dataframe\">\n",
              "  <thead>\n",
              "    <tr style=\"text-align: right;\">\n",
              "      <th></th>\n",
              "      <th>batv</th>\n",
              "      <th>hum_sht</th>\n",
              "      <th>tempc_ds</th>\n",
              "      <th>tempc_sht</th>\n",
              "      <th>anomaly</th>\n",
              "    </tr>\n",
              "    <tr>\n",
              "      <th>timestamp</th>\n",
              "      <th></th>\n",
              "      <th></th>\n",
              "      <th></th>\n",
              "      <th></th>\n",
              "      <th></th>\n",
              "    </tr>\n",
              "  </thead>\n",
              "  <tbody>\n",
              "    <tr>\n",
              "      <th>2020-10-16 19:00:00</th>\n",
              "      <td>3.064000</td>\n",
              "      <td>21.000000</td>\n",
              "      <td>50.000000</td>\n",
              "      <td>53.610000</td>\n",
              "      <td>1</td>\n",
              "    </tr>\n",
              "    <tr>\n",
              "      <th>2020-10-16 19:20:00</th>\n",
              "      <td>3.066000</td>\n",
              "      <td>45.400000</td>\n",
              "      <td>29.310000</td>\n",
              "      <td>34.680000</td>\n",
              "      <td>1</td>\n",
              "    </tr>\n",
              "    <tr>\n",
              "      <th>2020-10-16 19:40:00</th>\n",
              "      <td>3.067000</td>\n",
              "      <td>71.600000</td>\n",
              "      <td>26.340000</td>\n",
              "      <td>25.200000</td>\n",
              "      <td>1</td>\n",
              "    </tr>\n",
              "    <tr>\n",
              "      <th>2020-10-16 20:00:00</th>\n",
              "      <td>3.068000</td>\n",
              "      <td>65.900000</td>\n",
              "      <td>23.370000</td>\n",
              "      <td>27.330000</td>\n",
              "      <td>1</td>\n",
              "    </tr>\n",
              "    <tr>\n",
              "      <th>2020-10-16 20:20:00</th>\n",
              "      <td>3.068000</td>\n",
              "      <td>79.100000</td>\n",
              "      <td>22.930000</td>\n",
              "      <td>24.540000</td>\n",
              "      <td>1</td>\n",
              "    </tr>\n",
              "    <tr>\n",
              "      <th>...</th>\n",
              "      <td>...</td>\n",
              "      <td>...</td>\n",
              "      <td>...</td>\n",
              "      <td>...</td>\n",
              "      <td>...</td>\n",
              "    </tr>\n",
              "    <tr>\n",
              "      <th>2021-07-19 10:40:00</th>\n",
              "      <td>3.051667</td>\n",
              "      <td>43.866667</td>\n",
              "      <td>35.873333</td>\n",
              "      <td>40.393333</td>\n",
              "      <td>0</td>\n",
              "    </tr>\n",
              "    <tr>\n",
              "      <th>2021-07-19 11:00:00</th>\n",
              "      <td>3.050000</td>\n",
              "      <td>52.600000</td>\n",
              "      <td>38.030000</td>\n",
              "      <td>32.900000</td>\n",
              "      <td>0</td>\n",
              "    </tr>\n",
              "    <tr>\n",
              "      <th>2021-07-19 11:20:00</th>\n",
              "      <td>3.052667</td>\n",
              "      <td>42.700000</td>\n",
              "      <td>37.850000</td>\n",
              "      <td>40.670000</td>\n",
              "      <td>0</td>\n",
              "    </tr>\n",
              "    <tr>\n",
              "      <th>2021-07-19 11:40:00</th>\n",
              "      <td>3.053333</td>\n",
              "      <td>39.500000</td>\n",
              "      <td>38.746667</td>\n",
              "      <td>41.740000</td>\n",
              "      <td>0</td>\n",
              "    </tr>\n",
              "    <tr>\n",
              "      <th>2021-07-19 12:00:00</th>\n",
              "      <td>3.055000</td>\n",
              "      <td>47.800000</td>\n",
              "      <td>35.180000</td>\n",
              "      <td>33.400000</td>\n",
              "      <td>0</td>\n",
              "    </tr>\n",
              "  </tbody>\n",
              "</table>\n",
              "<p>14517 rows × 5 columns</p>\n",
              "</div>"
            ],
            "text/plain": [
              "                         batv    hum_sht   tempc_ds  tempc_sht  anomaly\n",
              "timestamp                                                              \n",
              "2020-10-16 19:00:00  3.064000  21.000000  50.000000  53.610000        1\n",
              "2020-10-16 19:20:00  3.066000  45.400000  29.310000  34.680000        1\n",
              "2020-10-16 19:40:00  3.067000  71.600000  26.340000  25.200000        1\n",
              "2020-10-16 20:00:00  3.068000  65.900000  23.370000  27.330000        1\n",
              "2020-10-16 20:20:00  3.068000  79.100000  22.930000  24.540000        1\n",
              "...                       ...        ...        ...        ...      ...\n",
              "2021-07-19 10:40:00  3.051667  43.866667  35.873333  40.393333        0\n",
              "2021-07-19 11:00:00  3.050000  52.600000  38.030000  32.900000        0\n",
              "2021-07-19 11:20:00  3.052667  42.700000  37.850000  40.670000        0\n",
              "2021-07-19 11:40:00  3.053333  39.500000  38.746667  41.740000        0\n",
              "2021-07-19 12:00:00  3.055000  47.800000  35.180000  33.400000        0\n",
              "\n",
              "[14517 rows x 5 columns]"
            ]
          },
          "metadata": {
            "tags": []
          },
          "execution_count": 49
        }
      ]
    },
    {
      "cell_type": "code",
      "metadata": {
        "id": "Er21Y6sLaMAo"
      },
      "source": [
        "# key cell\n",
        "df1=df.copy()"
      ],
      "execution_count": 50,
      "outputs": []
    },
    {
      "cell_type": "code",
      "metadata": {
        "colab": {
          "base_uri": "https://localhost:8080/",
          "height": 162
        },
        "id": "-oCwRK9jTwfp",
        "outputId": "d03cfb89-add1-4248-dc69-3cbf73fbefae"
      },
      "source": [
        "# Visualisasi data menggunakan metode statistika\n",
        "import matplotlib.pyplot as plt\n",
        "anomali = df1.loc[df1[\"anomaly\"] == 1]\n",
        "plt.figure(figsize=(18,1.5))\n",
        "plt.plot(df1[\"batv\"], color='green', label='batv')\n",
        "# plt.plot(anomali[\"batv\"], linestyle='none', marker='o', color='red', markersize=12, label='Anomaly')\n",
        "plt.xlabel('Waktu')\n",
        "plt.legend(bbox_to_anchor=(0, 1), loc='lower left', fontsize='small')\n",
        "plt.grid(True)\n",
        "plt.savefig('batv.png', bbox_inches='tight')\n",
        "plt.show()"
      ],
      "execution_count": 56,
      "outputs": [
        {
          "output_type": "display_data",
          "data": {
            "image/png": "[encoded data removed]",
            "text/plain": [
              "<Figure size 1296x108 with 1 Axes>"
            ]
          },
          "metadata": {
            "tags": [],
            "needs_background": "light"
          }
        }
      ]
    },
    {
      "cell_type": "code",
      "metadata": {
        "colab": {
          "base_uri": "https://localhost:8080/",
          "height": 176
        },
        "id": "ZbL0GuqQLdpw",
        "outputId": "0e746c7d-8f85-437b-cc99-f3fdd15a2121"
      },
      "source": [
        "# Visualisasi data menggunakan metode statistika\n",
        "import matplotlib.pyplot as plt\n",
        "anomali = df1.loc[df1[\"anomaly\"] == 1]\n",
        "plt.figure(figsize=(18,1.5))\n",
        "plt.plot(df1[\"batv\"], color='green', label='batv')\n",
        "plt.plot(anomali[\"batv\"], linestyle='none', marker='o', color='red', markersize=12, label='Anomaly')\n",
        "plt.xlabel('Waktu')\n",
        "plt.legend(bbox_to_anchor=(0, 1), loc='lower left', fontsize='small')\n",
        "plt.grid(True)\n",
        "plt.savefig('batv.png', bbox_inches='tight')\n",
        "plt.show()"
      ],
      "execution_count": 54,
      "outputs": [
        {
          "output_type": "display_data",
          "data": {
            "image/png": "[encoded data removed]",
            "text/plain": [
              "<Figure size 1296x108 with 1 Axes>"
            ]
          },
          "metadata": {
            "tags": [],
            "needs_background": "light"
          }
        }
      ]
    },
    {
      "cell_type": "code",
      "metadata": {
        "colab": {
          "base_uri": "https://localhost:8080/",
          "height": 162
        },
        "id": "aD7SF2n1T2VV",
        "outputId": "b15043d8-01e1-4cd3-b842-83eea5b4222f"
      },
      "source": [
        "# Visualisasi data menggunakan metode statistika\n",
        "import matplotlib.pyplot as plt\n",
        "anomali = df1.loc[df1[\"anomaly\"] == 1]\n",
        "plt.figure(figsize=(18,1.5))\n",
        "plt.plot(df1[\"hum_sht\"], color='green', label='hum_sht')\n",
        "# plt.plot(anomali[\"hum_sht\"], linestyle='none', marker='o', color='red', markersize=12, label='Anomaly')\n",
        "plt.xlabel('Waktu')\n",
        "plt.legend(bbox_to_anchor=(0, 1), loc='lower left', fontsize='small')\n",
        "plt.grid(True)\n",
        "plt.savefig('hum_sht.png', bbox_inches='tight')\n",
        "plt.show()"
      ],
      "execution_count": 57,
      "outputs": [
        {
          "output_type": "display_data",
          "data": {
            "image/png": "[encoded data removed]",
            "text/plain": [
              "<Figure size 1296x108 with 1 Axes>"
            ]
          },
          "metadata": {
            "tags": [],
            "needs_background": "light"
          }
        }
      ]
    },
    {
      "cell_type": "code",
      "metadata": {
        "colab": {
          "base_uri": "https://localhost:8080/",
          "height": 176
        },
        "id": "-hckb4lDLdu4",
        "outputId": "ed510673-fcb6-41e4-eca1-ea413c26285c"
      },
      "source": [
        "# Visualisasi data menggunakan metode statistika\n",
        "import matplotlib.pyplot as plt\n",
        "anomali = df1.loc[df1[\"anomaly\"] == 1]\n",
        "plt.figure(figsize=(18,1.5))\n",
        "plt.plot(df1[\"hum_sht\"], color='green', label='hum_sht')\n",
        "plt.plot(anomali[\"hum_sht\"], linestyle='none', marker='o', color='red', markersize=12, label='Anomaly')\n",
        "plt.xlabel('Waktu')\n",
        "plt.legend(bbox_to_anchor=(0, 1), loc='lower left', fontsize='small')\n",
        "plt.grid(True)\n",
        "plt.savefig('hum_sht.png', bbox_inches='tight')\n",
        "plt.show()"
      ],
      "execution_count": 53,
      "outputs": [
        {
          "output_type": "display_data",
          "data": {
            "image/png": "[encoded data removed]",
            "text/plain": [
              "<Figure size 1296x108 with 1 Axes>"
            ]
          },
          "metadata": {
            "tags": [],
            "needs_background": "light"
          }
        }
      ]
    },
    {
      "cell_type": "code",
      "metadata": {
        "colab": {
          "base_uri": "https://localhost:8080/",
          "height": 162
        },
        "id": "oEK9rdEhT5s0",
        "outputId": "9f506c29-803b-4f63-8048-ec1352673ba6"
      },
      "source": [
        "# Visualisasi data menggunakan metode statistika\n",
        "import matplotlib.pyplot as plt\n",
        "anomali = df1.loc[df1[\"anomaly\"] == 1]\n",
        "plt.figure(figsize=(18,1.5))\n",
        "plt.plot(df1[\"tempc_ds\"], color='green', label='tempc_ds')\n",
        "# plt.plot(anomali[\"tempc_ds\"], linestyle='none', marker='o', color='red', markersize=12, label='Anomaly')\n",
        "plt.xlabel('Waktu')\n",
        "plt.legend(bbox_to_anchor=(0, 1), loc='lower left', fontsize='small')\n",
        "plt.grid(True)\n",
        "plt.savefig('tempc_ds.png', bbox_inches='tight')\n",
        "plt.show()"
      ],
      "execution_count": 58,
      "outputs": [
        {
          "output_type": "display_data",
          "data": {
            "image/png": "[encoded data removed]",
            "text/plain": [
              "<Figure size 1296x108 with 1 Axes>"
            ]
          },
          "metadata": {
            "tags": [],
            "needs_background": "light"
          }
        }
      ]
    },
    {
      "cell_type": "code",
      "metadata": {
        "colab": {
          "base_uri": "https://localhost:8080/",
          "height": 176
        },
        "id": "gjUYQbeVLd2k",
        "outputId": "2408a127-94dd-43b4-eb7c-9eec5035bcfb"
      },
      "source": [
        "# Visualisasi data menggunakan metode statistika\n",
        "import matplotlib.pyplot as plt\n",
        "anomali = df1.loc[df1[\"anomaly\"] == 1]\n",
        "plt.figure(figsize=(18,1.5))\n",
        "plt.plot(df1[\"tempc_ds\"], color='green', label='tempc_ds')\n",
        "plt.plot(anomali[\"tempc_ds\"], linestyle='none', marker='o', color='red', markersize=12, label='Anomaly')\n",
        "plt.xlabel('Waktu')\n",
        "plt.legend(bbox_to_anchor=(0, 1), loc='lower left', fontsize='small')\n",
        "plt.grid(True)\n",
        "plt.savefig('tempc_ds.png', bbox_inches='tight')\n",
        "plt.show()"
      ],
      "execution_count": 52,
      "outputs": [
        {
          "output_type": "display_data",
          "data": {
            "image/png": "[encoded data removed]",
            "text/plain": [
              "<Figure size 1296x108 with 1 Axes>"
            ]
          },
          "metadata": {
            "tags": [],
            "needs_background": "light"
          }
        }
      ]
    },
    {
      "cell_type": "code",
      "metadata": {
        "colab": {
          "base_uri": "https://localhost:8080/",
          "height": 162
        },
        "id": "-R1CSx9FT9-p",
        "outputId": "85867006-45b4-46e0-a056-1f45ba08791d"
      },
      "source": [
        "# Visualisasi data menggunakan metode statistika\n",
        "import matplotlib.pyplot as plt\n",
        "anomali = df1.loc[df1[\"anomaly\"] == 1]\n",
        "plt.figure(figsize=(18,1.5))\n",
        "plt.plot(df1[\"tempc_sht\"], color='green', label='tempc_sht')\n",
        "# plt.plot(anomali[\"tempc_sht\"], linestyle='none', marker='o', color='red', markersize=12, label='Anomaly')\n",
        "plt.xlabel('Waktu')\n",
        "plt.legend(bbox_to_anchor=(0, 1), loc='lower left', fontsize='small')\n",
        "plt.grid(True)\n",
        "plt.savefig('tempc_sht.png', bbox_inches='tight')\n",
        "plt.show()"
      ],
      "execution_count": 59,
      "outputs": [
        {
          "output_type": "display_data",
          "data": {
            "image/png": "[encoded data removed]",
            "text/plain": [
              "<Figure size 1296x108 with 1 Axes>"
            ]
          },
          "metadata": {
            "tags": [],
            "needs_background": "light"
          }
        }
      ]
    },
    {
      "cell_type": "code",
      "metadata": {
        "id": "LQzptP4MaMRz",
        "colab": {
          "base_uri": "https://localhost:8080/",
          "height": 176
        },
        "outputId": "fce4d677-9479-47fb-d0f9-d0a8e93caed3"
      },
      "source": [
        "# Visualisasi data menggunakan metode statistika\n",
        "import matplotlib.pyplot as plt\n",
        "anomali = df1.loc[df1[\"anomaly\"] == 1]\n",
        "plt.figure(figsize=(18,1.5))\n",
        "plt.plot(df1[\"tempc_sht\"], color='green', label='tempc_sht')\n",
        "plt.plot(anomali[\"tempc_sht\"], linestyle='none', marker='o', color='red', markersize=12, label='Anomaly')\n",
        "plt.xlabel('Waktu')\n",
        "plt.legend(bbox_to_anchor=(0, 1), loc='lower left', fontsize='small')\n",
        "plt.grid(True)\n",
        "plt.savefig('tempc_sht.png', bbox_inches='tight')\n",
        "plt.show()"
      ],
      "execution_count": 60,
      "outputs": [
        {
          "output_type": "display_data",
          "data": {
            "image/png": "[encoded data removed]",
            "text/plain": [
              "<Figure size 1296x108 with 1 Axes>"
            ]
          },
          "metadata": {
            "tags": [],
            "needs_background": "light"
          }
        }
      ]
    },
    {
      "cell_type": "code",
      "metadata": {
        "id": "P7Tdl-xPiLFO"
      },
      "source": [
        ""
      ],
      "execution_count": null,
      "outputs": []
    },
    {
      "cell_type": "code",
      "metadata": {
        "id": "FLKndbKxiK4u"
      },
      "source": [
        ""
      ],
      "execution_count": null,
      "outputs": []
    },
    {
      "cell_type": "code",
      "metadata": {
        "id": "grLLUAqBiKvS"
      },
      "source": [
        ""
      ],
      "execution_count": null,
      "outputs": []
    },
    {
      "cell_type": "code",
      "metadata": {
        "id": "b7IyETXzUKyw"
      },
      "source": [
        ""
      ],
      "execution_count": null,
      "outputs": []
    }
  ]
}